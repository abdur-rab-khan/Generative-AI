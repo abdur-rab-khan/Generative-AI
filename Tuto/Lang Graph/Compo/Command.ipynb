{
 "cells": [
  {
   "cell_type": "markdown",
   "metadata": {
    "vscode": {
     "languageId": "plaintext"
    }
   },
   "source": [
    "# Command\n",
    "It is useful when you want to combine control flow(edge) and state updates(nodes). For Example you might want to BOTH perform state updates AND decide which node to go next in the same NODE."
   ]
  },
  {
   "cell_type": "code",
   "execution_count": null,
   "metadata": {},
   "outputs": [],
   "source": [
    "def my_node(state: State) -> Command[Literal[\"my_other_node\"]]:\n",
    "    return Command(\n",
    "        # state update\n",
    "        update={\"foo\": \"bar\"},\n",
    "        # control flow\n",
    "        goto=\"my_other_node\"\n",
    "    )\n",
    "\n",
    "# With Command you can also achieve dynamic control flow behavior (identical to conditional edges):\n",
    "\n",
    "def my_node(state: State) -> Command[Literal[\"my_other_node\"]]:\n",
    "    if state[\"foo\"] == \"bar\":\n",
    "        return Command(update={\"foo\": \"baz\"}, goto=\"my_other_node\")"
   ]
  },
  {
   "cell_type": "markdown",
   "metadata": {},
   "source": [
    "### When should I use Command instead of conditional edges?\n",
    "\n",
    "Use Command when you need to both update the graph state and route to a different node. For example, when implementing multi-agent handoffs where it's important to route to a different agent and pass some information to that agent.\n",
    "\n",
    "Use conditional edges to route between nodes conditionally without updating the state.\n",
    "\n",
    "#### Navigating to a node in a parent graph\n",
    "\n",
    "If you are using subgraphs, you might want to navigate from a node within a subgraph to a different subgraph (i.e. a different node in the parent graph). To do so, you can specify graph=Command.PARENT in Command:"
   ]
  },
  {
   "cell_type": "code",
   "execution_count": null,
   "metadata": {},
   "outputs": [],
   "source": [
    "def my_node(state: State) -> Command[Literal[\"my_other_node\"]]:\n",
    "    return Command(\n",
    "        update={\"foo\": \"bar\"},\n",
    "        goto=\"other_subgraph\",  # where `other_subgraph` is a node in the parent graph\n",
    "        graph=Command.PARENT\n",
    "    )"
   ]
  },
  {
   "cell_type": "markdown",
   "metadata": {},
   "source": [
    "#### Using inside tools\n",
    "\n",
    "A common use case is updating graph state from inside a tool. For example, in a customer support application you might want to look up customer information based on their account number or ID in the beginning of the conversation. To update the graph state from the tool, you can return Command(update={\"my_custom_key\": \"foo\", \"messages\": [...]}) from the tool:"
   ]
  },
  {
   "cell_type": "code",
   "execution_count": null,
   "metadata": {},
   "outputs": [],
   "source": [
    "@tool\n",
    "def lookup_user_info(tool_call_id: Annotated[str, InjectedToolCallId], config: RunnableConfig):\n",
    "    \"\"\"Use this to look up user information to better assist them with their questions.\"\"\"\n",
    "    user_info = get_user_info(config.get(\"configurable\", {}).get(\"user_id\"))\n",
    "    return Command(\n",
    "        update={\n",
    "            # update the state keys\n",
    "            \"user_info\": user_info,\n",
    "            # update the message history\n",
    "            \"messages\": [ToolMessage(\"Successfully looked up user information\", tool_call_id=tool_call_id)]\n",
    "        }\n",
    "    )"
   ]
  },
  {
   "cell_type": "markdown",
   "metadata": {},
   "source": [
    "If you are using tools that update state via Command, we recommend using prebuilt ToolNode which automatically handles tools returning Command objects and propagates them to the graph state. If you're writing a custom node that calls tools, you would need to manually propagate Command objects returned by the tools as the update from the node."
   ]
  },
  {
   "cell_type": "markdown",
   "metadata": {},
   "source": [
    "#### Human-in-the-loop\n",
    "\n",
    "Command is an important part of human-in-the-loop workflows: when using interrupt() to collect user input, Command is then used to supply the input and resume execution via Command(resume=\"User input\"). Check out this conceptual guide for more information.\n",
    "\n",
    "#### Persistence\n",
    "\n",
    "LangGraph provides built-in persistence for your agent's state using checkpointers. Checkpointers save snapshots of the graph state at every superstep, allowing resumption at any time. This enables features like human-in-the-loop interactions, memory management, and fault-tolerance. You can even directly manipulate a graph's state after its execution using the appropriate get and update methods. For more details, see the persistence conceptual guide.\n",
    "\n",
    "#### Threads\n",
    "\n",
    "Threads in LangGraph represent individual sessions or conversations between your graph and a user. When using checkpointing, turns in a single conversation (and even steps within a single graph execution) are organized by a unique thread ID.s\n",
    "\n",
    "#### Storage\n",
    "\n",
    "LangGraph provides built-in document storage through the BaseStore interface. Unlike checkpointers, which save state by thread ID, stores use custom namespaces for organizing data. This enables cross-thread persistence, allowing agents to maintain long-term memories, learn from past interactions, and accumulate knowledge over time. Common use cases include storing user profiles, building knowledge bases, and managing global preferences across all threads."
   ]
  }
 ],
 "metadata": {
  "kernelspec": {
   "display_name": ".venv",
   "language": "python",
   "name": "python3"
  },
  "language_info": {
   "name": "python",
   "version": "3.13.0"
  }
 },
 "nbformat": 4,
 "nbformat_minor": 2
}
