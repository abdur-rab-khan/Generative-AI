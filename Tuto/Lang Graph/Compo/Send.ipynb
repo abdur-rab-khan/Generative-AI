{
 "cells": [
  {
   "cell_type": "markdown",
   "metadata": {},
   "source": [
    "# Send\n",
    "\n",
    "By default, `Node`  and `Edge` are defined ahead of time and operate on the same shared state. A common example of this is with map-reduce design pattern. In this design the first node may generate the list of objects. and you want to apply some other node to all those objects. The number of object may be unkonwn and the input State to the downstream Node should be different (one for each generated object).\n",
    "\n",
    "To do this We have `Send` that return object from conditional edges. `Send` accept two aguments `name_of_node` and `state_to_pass_that_node`.\n",
    "\n",
    "* Example ⬇️"
   ]
  },
  {
   "cell_type": "code",
   "execution_count": 7,
   "metadata": {},
   "outputs": [
    {
     "name": "stdout",
     "output_type": "stream",
     "text": [
      "<------------------------- FIRST_NODE --------------------------->\n",
      "<------------------------- CALL_TO_GET_INFO ---------------------->\n",
      "<------------------------ GETTING_INFO --------------------------->\n",
      "<------------------------ GETTING_INFO --------------------------->\n",
      "<------------------------ GETTING_INFO --------------------------->\n",
      "{'list_of_topic': ['Moon', 'Sun', 'Earth'], 'Result': [HumanMessage(content='Moon', additional_kwargs={}, response_metadata={}, id='753c00cf-3756-40ce-b1d4-388375fc20cd'), HumanMessage(content='Sun', additional_kwargs={}, response_metadata={}, id='82df4981-3d1c-4093-afff-7da496347929'), HumanMessage(content='Earth', additional_kwargs={}, response_metadata={}, id='e2d6c8d8-90eb-4a92-907c-b90dc8861c78')]}\n"
     ]
    }
   ],
   "source": [
    "from langgraph.graph import StateGraph, START, END\n",
    "from langgraph.types import Send\n",
    "from typing import Annotated,List\n",
    "from typing_extensions import TypedDict\n",
    "from langgraph.graph.message import add_messages\n",
    "\n",
    "list_of_topic = [\"Moon\", \"Sun\", \"Earth\"]\n",
    "\n",
    "class State(TypedDict):\n",
    "    list_of_topic: List\n",
    "    Result:Annotated[list,add_messages]\n",
    "\n",
    "builder = StateGraph(State)\n",
    "\n",
    "\n",
    "def first_node(state: State):\n",
    "    print(\"<------------------------- FIRST_NODE --------------------------->\")\n",
    "    return {\"Result\" : state[\"list_of_topic\"]}\n",
    "\n",
    "def get_topic_info(state: dict):\n",
    "    print(\"<------------------------ GETTING_INFO --------------------------->\")\n",
    "    match state[\"topic\"]:\n",
    "        case \"Moon\":\n",
    "            return {\"Result\" : \"Moon the bright and white\"}\n",
    "        case \"Sun\":\n",
    "            return {\"Result\" : \"Sun is bright and yellow\"}\n",
    "        case \"Earth\":\n",
    "            return {\"Result\" : \"Life line of human\"}\n",
    "\n",
    "def continue_to_info(state: State):\n",
    "    print(\"<------------------------- CALL_TO_GET_INFO ---------------------->\")\n",
    "    return [Send(\"get_topic_info\", {\"topic\": t}) for t in state['Result']]\n",
    "\n",
    "builder.add_node(first_node)\n",
    "builder.add_node(continue_to_info)\n",
    "builder.add_node(get_topic_info)\n",
    "\n",
    "builder.add_edge(START,\"first_node\")\n",
    "builder.add_conditional_edges(\"first_node\", continue_to_info)\n",
    "builder.add_edge(\"first_node\", END)\n",
    "builder.add_edge(\"get_topic_info\", END)  # Add this line to allow get_topic_info to terminate\n",
    "\n",
    "graph = builder.compile()\n",
    "\n",
    "print(graph.invoke({\"list_of_topic\": list_of_topic}))"
   ]
  }
 ],
 "metadata": {
  "kernelspec": {
   "display_name": ".venv",
   "language": "python",
   "name": "python3"
  },
  "language_info": {
   "codemirror_mode": {
    "name": "ipython",
    "version": 3
   },
   "file_extension": ".py",
   "mimetype": "text/x-python",
   "name": "python",
   "nbconvert_exporter": "python",
   "pygments_lexer": "ipython3",
   "version": "3.13.0"
  }
 },
 "nbformat": 4,
 "nbformat_minor": 2
}
