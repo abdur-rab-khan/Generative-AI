{
 "cells": [
  {
   "cell_type": "markdown",
   "metadata": {},
   "source": [
    "## Reducers\n",
    "Reducers are key to understanding how updates from nodes are applied to `State`. Each key in the State has their own reducer function. If no reducer function is explicitly specified then it is assumed that all updated to that key should override it. There are a few different types of reducers, starting with the default type of reducer:\n",
    "* If we does not specify the reducer function to the key it override with the most recent provided value \n",
    "\n",
    "* Default Reducers\n",
    "\n",
    "**Let's See Some Examples ⬇️**"
   ]
  },
  {
   "cell_type": "code",
   "execution_count": null,
   "metadata": {},
   "outputs": [],
   "source": [
    "# Example 1\n",
    "from typing_extensions import TypedDict\n",
    "\n",
    "class State(TypedDict):\n",
    "    foo:int\n",
    "    bar: list[str]"
   ]
  },
  {
   "cell_type": "markdown",
   "metadata": {},
   "source": [
    "⬆️ In the above example there are no reducers are specified for any key.\n",
    "* Let's assume that the input to the graph is `{\"foo\" : 1, \"bar\" : [\"Hi\"]}`.\n",
    "    * Then assume the first node returns `{\"foo\" : 2}`. this will treated as an update to the state.\n",
    "    * After applying the update the `State` would be `{\"foo\" : 2, \"bar\" : [\"hi\"]}`.\n",
    "* If the second node return `{\"bar\" : [\"bye\"]}`\n",
    "    * Than `State` would be `{\"foo\" : 2, \"bar\" : [\"bye\"]}`.\n",
    "* `Notice:-` That the node does not need to return the whole `State` schema they just an update.\n"
   ]
  },
  {
   "cell_type": "markdown",
   "metadata": {},
   "source": [
    "**Let's see with reducer function ⬇️**"
   ]
  },
  {
   "cell_type": "code",
   "execution_count": 1,
   "metadata": {},
   "outputs": [],
   "source": [
    "from typing_extensions import TypedDict\n",
    "from typing import Annotated\n",
    "from operator import add\n",
    "\n",
    "class State(TypedDict):\n",
    "    foo : int\n",
    "    bar : Annotated[list[str], add]"
   ]
  },
  {
   "cell_type": "markdown",
   "metadata": {},
   "source": [
    "⬆️ In the above example there are reducers that are specified for any key.\n",
    "* We used annotated type to specify a reducer function (`operator.add`) for second key bar.\n",
    "* `Note::` The first key will remains unchanged.\n",
    "* Let's assume we got `{\"foo\" : 1, \"bar\" : [\"hi\"]}` from the input to the graph.\n",
    "    * Than node returns `{\"foo\" : 2}`. this will treaded as update to the state. \n",
    "    * After updating the `State` we got `{\"foo\" : 2 , \"bar\" : [\"hi\"]}`.\n",
    "* If the second node return `{\"bar\" : [\"bye\"]}`.\n",
    "    * Then the state would be `{\"foo\" : 2, \"bar\" : [\"hi\", \"bye\"]}`.\n",
    "    * `Notic:- ` Here the `bar` key is updated by adding the two lists together.\n",
    "* `Notice:-` That the node does not need to return the whole `State` schema they just an update."
   ]
  }
 ],
 "metadata": {
  "kernelspec": {
   "display_name": ".venv",
   "language": "python",
   "name": "python3"
  },
  "language_info": {
   "codemirror_mode": {
    "name": "ipython",
    "version": 3
   },
   "file_extension": ".py",
   "mimetype": "text/x-python",
   "name": "python",
   "nbconvert_exporter": "python",
   "pygments_lexer": "ipython3",
   "version": "3.13.0"
  }
 },
 "nbformat": 4,
 "nbformat_minor": 2
}
