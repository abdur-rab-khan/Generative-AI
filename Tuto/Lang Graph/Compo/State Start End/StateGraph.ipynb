{
 "cells": [
  {
   "cell_type": "markdown",
   "metadata": {},
   "source": [
    "## StateGraph\n",
    "> A graph whose nodes communicate by reading and writing to a shared state. The signature of each node is State -> Partial.\n",
    "\n",
    "* Each State key can be annotated with a reducer function that will be used to aggregate (combine all) the values of that key received from multiple nodes. The Signature of a reducer function is (Value, Value) -> Value.\n",
    "\n",
    "* Parameters:\n",
    "    * state_schema (Type[Any], default = None) -> The Schema class that define that state.\n",
    "    * config_schema (Optional[Type[Any]], default = None) - The schema class that define the configuration Use this to expose configurable parameters in you API.\n",
    "\n",
    "**Examples ⏬** "
   ]
  },
  {
   "cell_type": "markdown",
   "metadata": {},
   "source": []
  },
  {
   "cell_type": "code",
   "execution_count": 1,
   "metadata": {},
   "outputs": [
    {
     "name": "stdout",
     "output_type": "stream",
     "text": [
      "A::  [] \n",
      "B:: 0.5\n",
      "STATE::  {'x': [0.5]}\n",
      "A::  [0.5] \n",
      "B:: 0.75\n",
      "Value is::  {'x': [0.5, 0.75]}\n"
     ]
    }
   ],
   "source": [
    "from langchain_core.runnables import RunnableConfig\n",
    "from typing_extensions import Annotated, TypedDict\n",
    "from langgraph.checkpoint.memory import MemorySaver\n",
    "from langgraph.graph import StateGraph\n",
    "\n",
    "def reducer(a: list, b: int | None) -> list:\n",
    "    print(\"A:: \",a,\"\\nB::\",b)\n",
    "\n",
    "    if b is not None:\n",
    "        return a + [b]\n",
    "    \n",
    "    return a\n",
    "\n",
    "class State(TypedDict):\n",
    "    x : Annotated[list, reducer]\n",
    "\n",
    "class ConfigSchema(TypedDict):\n",
    "    r : float\n",
    "\n",
    "graph = StateGraph(State, config_schema = ConfigSchema)\n",
    "\n",
    "def node(state : State, config: RunnableConfig) -> dict:\n",
    "    print(\"STATE:: \",state)\n",
    "\n",
    "    r = config[\"configurable\"].get(\"r\", 1.0)\n",
    "    x = state[\"x\"][-1]\n",
    "    next_value = x * r * (1 - x)\n",
    "    return {\"x\" : next_value}\n",
    "\n",
    "graph.add_node(\"A\", node)\n",
    "graph.set_entry_point(\"A\") # also like --> graph.add_node(START, \"A\") -> the first node in graph-type pregel.\n",
    "graph.set_finish_point(\"A\") # also like --> graph.add_node(END, \"A\") -> The last (maybe virtual) node in graph-style Pregel.el.\n",
    "\n",
    "compiled = graph.compile()\n",
    "\n",
    "# print(compiled.config_specs)\n",
    "\n",
    "step1 = compiled.invoke({\"x\" : 0.5}, {\"configurable\": {\"r\": 3.0}})\n",
    "print(\"Value is:: \",step1)\n",
    "\n",
    "# step2 = compiled.invoke({\"x\" : 1}, {\"configurable\": {\"r\": 3.0}})\n",
    "# print(step2)"
   ]
  }
 ],
 "metadata": {
  "kernelspec": {
   "display_name": ".venv",
   "language": "python",
   "name": "python3"
  },
  "language_info": {
   "codemirror_mode": {
    "name": "ipython",
    "version": 3
   },
   "file_extension": ".py",
   "mimetype": "text/x-python",
   "name": "python",
   "nbconvert_exporter": "python",
   "pygments_lexer": "ipython3",
   "version": "3.13.0"
  }
 },
 "nbformat": 4,
 "nbformat_minor": 2
}
