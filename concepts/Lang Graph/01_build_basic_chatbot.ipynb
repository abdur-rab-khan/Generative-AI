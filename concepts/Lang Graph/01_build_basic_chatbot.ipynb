{
 "cells": [
  {
   "cell_type": "markdown",
   "id": "f586ce14",
   "metadata": {
    "vscode": {
     "languageId": "plaintext"
    }
   },
   "source": [
    "# Part 1: Build a Basic Chatbot¶\n",
    "\n",
    "#### Types of Graphs in LangGraph\n",
    "- Graph: For stateless, linear workflows (no memory between steps).\n",
    "- StateGraph: For stateful workflows (with memory, loops, or branches).\n",
    "\n",
    "---\n",
    "\n",
    "#### Concepts of Lang Graph.\n",
    "\n",
    "- To work with langraph first we have to define its State.\n",
    "- State includes the graph's Schema and reducers fuctions that handle the state.\n",
    "- In our example, State is a TypedDict with one key: messages\n",
    "- The add_messages reducer function is used to append new messages to the list instead of overwriting it.\n",
    "- Keys without a reducer annotation will overwrite previous values.\n",
    "\n",
    "---\n",
    "\n",
    "##### What is State Graph.\n",
    "\n",
    "- Stage Graph is use in LangGraph to build the stateful workflow with cycles (loops) and branches.\n",
    "- Like the flowchart each step(nodes) can update the shared \"memory\" (state).\n",
    "\n",
    "##### Why we have to use that.\n",
    "\n",
    "> If we chat with AI they does not have the access of previous chats / context (AI DOES NOT STORE PREVIOUS CHATS).\n",
    "1. Loop: Repeat steps until a condition is met (e.g., keep asking for input until it’s valid).\n",
    "2. Branch: Choose different paths based on the current data (e.g., route a user query to \"billing\" or \"support\").\n",
    "3. Remember state: Carry context between steps (e.g., track a pizza order as it’s customized).\n",
    "\n",
    "##### Key compoenents of StateGraph.\n",
    "\n",
    "1. State: It store the previous chats in Dictorary (eg: { \"user_input\" : \"Hello\", \"step\" : 1 }).\n",
    "2. Nodes: A Function that take state and call **LLM** and return the updated State.\n",
    "3. Edges: Rules that decide which node to run next. based on the previous State.\n",
    "\n",
    "#### Example\n",
    "\n",
    "1. Node 1: Ask for pizza size → updates state to {\"size\": \"large\"}.\n",
    "2. Node 2: Ask for toppings → updates state to {\"toppings\": \"cheese\"}.\n",
    "3. Node 3: Confirm order.\n",
    "    - If user says “change size”, loop back to Node 1.\n",
    "    - If confirmed, end the flow.\n",
    "\n",
    "#### When use this.\n",
    "\n",
    "1. Build chatbots that need context.\n",
    "2. Create multi-step tools (e.g., data processing with validation loops).\n",
    "3. Design any app where the next step depends on dynamic conditions."
   ]
  },
  {
   "cell_type": "code",
   "execution_count": 1,
   "id": "0b327698",
   "metadata": {},
   "outputs": [
    {
     "ename": "ModuleNotFoundError",
     "evalue": "No module named 'langgraph'",
     "output_type": "error",
     "traceback": [
      "\u001b[31m---------------------------------------------------------------------------\u001b[39m",
      "\u001b[31mModuleNotFoundError\u001b[39m                       Traceback (most recent call last)",
      "\u001b[36mCell\u001b[39m\u001b[36m \u001b[39m\u001b[32mIn[1]\u001b[39m\u001b[32m, line 6\u001b[39m\n\u001b[32m      3\u001b[39m \u001b[38;5;28;01mfrom\u001b[39;00m\u001b[38;5;250m \u001b[39m\u001b[34;01mtyping\u001b[39;00m\u001b[38;5;250m \u001b[39m\u001b[38;5;28;01mimport\u001b[39;00m Annotated\n\u001b[32m      4\u001b[39m \u001b[38;5;28;01mfrom\u001b[39;00m\u001b[38;5;250m \u001b[39m\u001b[34;01mtyping_extensions\u001b[39;00m\u001b[38;5;250m \u001b[39m\u001b[38;5;28;01mimport\u001b[39;00m TypedDict\n\u001b[32m----> \u001b[39m\u001b[32m6\u001b[39m \u001b[38;5;28;01mfrom\u001b[39;00m\u001b[38;5;250m \u001b[39m\u001b[34;01mlanggraph\u001b[39;00m\u001b[34;01m.\u001b[39;00m\u001b[34;01mgraph\u001b[39;00m\u001b[38;5;250m \u001b[39m\u001b[38;5;28;01mimport\u001b[39;00m StateGraph, START, END\n\u001b[32m      7\u001b[39m \u001b[38;5;28;01mfrom\u001b[39;00m\u001b[38;5;250m \u001b[39m\u001b[34;01mlanggraph\u001b[39;00m\u001b[34;01m.\u001b[39;00m\u001b[34;01mgraph\u001b[39;00m\u001b[34;01m.\u001b[39;00m\u001b[34;01mmessage\u001b[39;00m\u001b[38;5;250m \u001b[39m\u001b[38;5;28;01mimport\u001b[39;00m add_messages\n\u001b[32m      9\u001b[39m load_dotenv()\n",
      "\u001b[31mModuleNotFoundError\u001b[39m: No module named 'langgraph'"
     ]
    }
   ],
   "source": [
    "from dotenv import load_dotenv\n",
    "\n",
    "from typing import Annotated\n",
    "from typing_extensions import TypedDict\n",
    "\n",
    "from langgraph.graph import StateGraph, START, END\n",
    "from langgraph.graph.message import add_messages\n",
    "\n",
    "load_dotenv()\n",
    "\n",
    "class State(TypedDict):\n",
    "    messages: Annotated[list, add_messages]\n",
    "\n",
    "graph_builder = StateGraph(State)"
   ]
  },
  {
   "cell_type": "code",
   "execution_count": null,
   "id": "486eab92",
   "metadata": {},
   "outputs": [],
   "source": [
    "from langchain_openai import ChatOpenAI\n",
    "\n",
    "llm = ChatOpenAI(model=\"gpt-4o-mini\",temperature=0.3)\n",
    "\n",
    "def chatbot(state:State):\n",
    "    messages = state[\"messages\"]\n",
    "    response = llm.invoke(messages)\n",
    "    return {\"messages\": [response]}\n"
   ]
  },
  {
   "cell_type": "markdown",
   "id": "0be5cfe5",
   "metadata": {},
   "source": [
    "- In the above we have chatbot function that take state ARGUMENT as a Input and return dictionary as output.\n",
    "- That dictionary contain an updated messages list under the key \"messages\". This is the basic pattern of all the **LANGGRAPH** node functions \n",
    "- add_message function in our **STATE** will append the **LLM** response messages to whatever messages are already in the **STATE**. "
   ]
  },
  {
   "cell_type": "code",
   "execution_count": null,
   "id": "f5c947ce",
   "metadata": {},
   "outputs": [
    {
     "data": {
      "text/plain": [
       "<langgraph.graph.state.StateGraph at 0x27983b9d2b0>"
      ]
     },
     "execution_count": 3,
     "metadata": {},
     "output_type": "execute_result"
    }
   ],
   "source": [
    "graph_builder.add_node(\"chatbot\", chatbot)"
   ]
  },
  {
   "cell_type": "markdown",
   "id": "ed21a383",
   "metadata": {},
   "source": [
    "\n",
    "- This will the `entry` point. This tell the graph **where to start its work** each time we run it\n"
   ]
  },
  {
   "cell_type": "code",
   "execution_count": null,
   "id": "8f2ce9e4",
   "metadata": {},
   "outputs": [
    {
     "data": {
      "text/plain": [
       "<langgraph.graph.state.StateGraph at 0x27983b9d2b0>"
      ]
     },
     "execution_count": 4,
     "metadata": {},
     "output_type": "execute_result"
    }
   ],
   "source": [
    "# graph_builder.add_edge(START,\"chatbot\")\n",
    "graph_builder.set_entry_point(\"chatbot\")"
   ]
  },
  {
   "cell_type": "markdown",
   "id": "34e6d11a",
   "metadata": {},
   "source": [
    "- This instructs the graph \"**any time this node is run**, you can exit.\""
   ]
  },
  {
   "cell_type": "code",
   "execution_count": null,
   "id": "236a87f8",
   "metadata": {},
   "outputs": [
    {
     "data": {
      "text/plain": [
       "<langgraph.graph.state.StateGraph at 0x27983b9d2b0>"
      ]
     },
     "execution_count": 5,
     "metadata": {},
     "output_type": "execute_result"
    }
   ],
   "source": [
    "# graph_builder.add_edge(\"chatbot\", END)\n",
    "graph_builder.set_finish_point(\"chatbot\")"
   ]
  },
  {
   "cell_type": "markdown",
   "id": "b12ab7fd",
   "metadata": {},
   "source": [
    "- Finally, We'll able to start the graph. To do so we, call `compile()` on the graph builder. This creates \"`CompliedGraph`\" we can use invoke on our State"
   ]
  },
  {
   "cell_type": "code",
   "execution_count": null,
   "id": "44ab8706",
   "metadata": {},
   "outputs": [],
   "source": [
    "graph = graph_builder.compile()"
   ]
  },
  {
   "cell_type": "markdown",
   "id": "6e38c588",
   "metadata": {},
   "source": [
    "- This is the visualization of above things."
   ]
  },
  {
   "cell_type": "code",
   "execution_count": null,
   "id": "b68b9fa9",
   "metadata": {},
   "outputs": [
    {
     "data": {
      "image/png": "[encoded data removed]",
      "text/plain": [
       "<IPython.core.display.Image object>"
      ]
     },
     "metadata": {},
     "output_type": "display_data"
    }
   ],
   "source": [
    "from IPython.display import Image, display\n",
    "\n",
    "try:\n",
    "    display(Image(graph.get_graph().draw_mermaid_png()))\n",
    "except Exception:\n",
    "    # This requires some extra dependencies and is optional\n",
    "    pass"
   ]
  },
  {
   "cell_type": "markdown",
   "id": "42b4a6e6",
   "metadata": {},
   "source": [
    "Now let's run the bot.\n",
    "- **Tip**: We can exit the chat loop by typing the `\"quit\" , \"exit\", \"q\"`."
   ]
  },
  {
   "cell_type": "code",
   "execution_count": null,
   "id": "96539d91",
   "metadata": {},
   "outputs": [
    {
     "name": "stdout",
     "output_type": "stream",
     "text": [
      "User: what is the capital of india.\n",
      "Assistant: The capital of India is New Delhi.\n",
      "User: whats its population.\n",
      "Assistant: Could you please specify which location or entity you are referring to when you ask about its population?\n",
      "User: \n",
      "Assistant: Hello! How can I assist you today?\n",
      "Goodbye!\n"
     ]
    }
   ],
   "source": [
    "from langchain_core.messages import HumanMessage\n",
    "\n",
    "def stream_graph_updates(user_input: str):\n",
    "    message = HumanMessage(content=user_input)\n",
    "\n",
    "    for events in graph.stream({\"messages\":[message]}):\n",
    "        for value in events.values():\n",
    "            if \"messages\" in value:\n",
    "                print(\"Assistant:\", value[\"messages\"][-1].content)\n",
    "\n",
    "\n",
    "while True:\n",
    "    try:\n",
    "        user_input = input(\"User: \")\n",
    "\n",
    "        if user_input.lower() in [\"quit\",\"q\",\"exit\"]:\n",
    "            print(\"Goodbye!\")\n",
    "            break\n",
    "        print(\"User: \" + user_input)\n",
    "        stream_graph_updates(user_input)\n",
    "    except:\n",
    "        user_input = \"What do you know about langgraph.\"\n",
    "        print(\"User: \" + user_input)\n",
    "        stream_graph_updates(user_input)\n",
    "        break"
   ]
  }
 ],
 "metadata": {
  "kernelspec": {
   "display_name": "myenv",
   "language": "python",
   "name": "python3"
  },
  "language_info": {
   "codemirror_mode": {
    "name": "ipython",
    "version": 3
   },
   "file_extension": ".py",
   "mimetype": "text/x-python",
   "name": "python",
   "nbconvert_exporter": "python",
   "pygments_lexer": "ipython3",
   "version": "3.13.0"
  }
 },
 "nbformat": 4,
 "nbformat_minor": 5
}
