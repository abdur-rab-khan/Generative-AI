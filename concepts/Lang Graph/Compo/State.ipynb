{
 "cells": [
  {
   "cell_type": "markdown",
   "metadata": {},
   "source": [
    "## State\n",
    "\n",
    "- State : A Shared Data structure it can be created by using `TypesDict`  or Pydantic `BaseModel`. When we define the graph first things we do is defining the graph of the state they represent the current snapshot of the application. By default the graph will have same input & output schema. but we can change it see this  [notebook here](https://langchain-ai.github.io/langgraph/how-tos/input_output_schema/).\n",
    "    - Schema : The main documented way to define the schema of a graph using `TypedDict`. the graph will have same input and output schema. If you want to change this, you can also explicitly specify this. this is use full when you have lots of keys."
   ]
  },
  {
   "cell_type": "code",
   "execution_count": null,
   "metadata": {},
   "outputs": [],
   "source": []
  },
  {
   "cell_type": "markdown",
   "metadata": {},
   "source": [
    "- MultiSchema :  Typically, All nodes communicate with single schema. this means they will read and write to the same state channels. but there are cases when we want more control over this.\n",
    "    - Internal nodes can pass information that is not required in the graph's input or output.\n",
    "    - We may also want to use different input / output schemas for the graph. The output might, for example, only contain a single relevant output key.\n",
    "        \n",
    "    It is possible to have nodes with private state channel inside the graph for internal nodes communication. We can simply define a private Schema. See  [this notebook](https://langchain-ai.github.io/langgraph/how-tos/pass_private_state/).\n",
    "        \n",
    "    It is also possible to define explicitly input or output schema of graph. In these cases, we define `internal` schema that contains all keys relevant to graph operation. we also define `input` and `output` schemas that are sub-sets of the \"internal\" schema to constrain the input and output of the graph."
   ]
  },
  {
   "cell_type": "code",
   "execution_count": null,
   "metadata": {},
   "outputs": [
    {
     "name": "stdout",
     "output_type": "stream",
     "text": [
      "{'question': 'hi'}\n",
      "{'answer': 'bye', 'masala': True}\n"
     ]
    }
   ],
   "source": [
    "from langgraph.graph import StateGraph, START,END\n",
    "from typing_extensions import TypedDict\n",
    "\n",
    "class InputState(TypedDict):\n",
    "    question:str\n",
    "\n",
    "class OutputState(TypedDict):\n",
    "    answer:str\n",
    "    masala:bool\n",
    "\n",
    "class OverallState(InputState,OutputState):\n",
    "    pass\n",
    "\n",
    "# Define the node that process the input and generate an answer\n",
    "def answer_node(state:InputState):\n",
    "    return {\"answer\":\"bye\",\"question\":state[\"question\"]}\n",
    "\n",
    "builder = StateGraph(OverallState,input = InputState, output = OutputState)\n",
    "builder.add_node(answer_node)\n",
    "builder.add_node(add_masala)\n",
    "builder.add_edge(START, \"answer_node\")\n",
    "builder.add_edge(\"answer_node\", END)\n",
    "\n",
    "graph = builder.compile()\n",
    "\n",
    "print(graph.invoke({\"question\": \"hi\"}))"
   ]
  }
 ],
 "metadata": {
  "kernelspec": {
   "display_name": ".venv",
   "language": "python",
   "name": "python3"
  },
  "language_info": {
   "codemirror_mode": {
    "name": "ipython",
    "version": 3
   },
   "file_extension": ".py",
   "mimetype": "text/x-python",
   "name": "python",
   "nbconvert_exporter": "python",
   "pygments_lexer": "ipython3",
   "version": "3.13.0"
  }
 },
 "nbformat": 4,
 "nbformat_minor": 2
}
