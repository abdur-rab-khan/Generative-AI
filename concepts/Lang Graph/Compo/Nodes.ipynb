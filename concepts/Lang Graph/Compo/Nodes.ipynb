{
 "cells": [
  {
   "cell_type": "markdown",
   "metadata": {},
   "source": [
    "## Nodes\n",
    "In LangChain, Nodes are typically python functions (sync or async) where the first positional argument is `State` and optionally. the second argument is a \"config\". containing optional configurable parameters (such as a thread_id).\n",
    "Similar to NetworkX, you add these nodes to a graph using the add_node method:"
   ]
  },
  {
   "cell_type": "code",
   "execution_count": 27,
   "metadata": {},
   "outputs": [
    {
     "data": {
      "text/plain": [
       "<langgraph.graph.state.StateGraph at 0x1f9818e9250>"
      ]
     },
     "execution_count": 27,
     "metadata": {},
     "output_type": "execute_result"
    }
   ],
   "source": [
    "from langchain_core.runnables import RunnableConfig\n",
    "from langgraph.graph import StateGraph\n",
    "\n",
    "builder = StateGraph(dict)\n",
    "\n",
    "def my_node(state:dict,config:RunnableConfig):\n",
    "    print(\"-------------------------- MY_NODE --------------------------------\")\n",
    "    print(\"State:: \",state)\n",
    "    print(\"In Nodes: \",config)\n",
    "    print(\"Results: \",f\"Hello {state[\"input\"]}\")\n",
    "    return {\"Results\" : state[\"input\"]}\n",
    "\n",
    "def other_node(state:dict):\n",
    "    print(\"------------------------------ OTHER_NODE --------------------------\")\n",
    "    print(\"STATE:: \",state)\n",
    "    return state\n",
    "\n",
    "def other_node2(state:dict):\n",
    "    print(\"------------------------------ OTHER_NODE 2 ---------------------------\")\n",
    "    print(\"STATE:: \", state)\n",
    "    return state\n",
    "\n",
    "builder.add_node(my_node)\n",
    "builder.add_node(other_node)\n",
    "builder.add_node(other_node2)"
   ]
  },
  {
   "cell_type": "markdown",
   "metadata": {},
   "source": [
    "Behind the scences, functions are converted into RunnableLamdas which add batch and async support to your function, along with native tracing and debugging.\n",
    "\n",
    "`Notice`: If you does not give the name during the adding the node it add default function name as a node name."
   ]
  },
  {
   "cell_type": "markdown",
   "metadata": {},
   "source": [
    "> `START` Node\n",
    "\n",
    "The `START` Node is special Node that represent the node that sends the user input to the graph. The main purpose for referencing this node to determine which nodes should be called first.\n",
    "\n",
    "> `END` Node\n",
    "\n",
    "The `END` Node is special Node that represent the terminal code. This node is referenced when you want to denote which edges have no action they are done."
   ]
  },
  {
   "cell_type": "code",
   "execution_count": 34,
   "metadata": {},
   "outputs": [
    {
     "name": "stderr",
     "output_type": "stream",
     "text": [
      "Adding an edge to a graph that has already been compiled. This will not be reflected in the compiled graph.\n",
      "Adding an edge to a graph that has already been compiled. This will not be reflected in the compiled graph.\n",
      "Adding an edge to a graph that has already been compiled. This will not be reflected in the compiled graph.\n",
      "Adding an edge to a graph that has already been compiled. This will not be reflected in the compiled graph.\n"
     ]
    },
    {
     "name": "stdout",
     "output_type": "stream",
     "text": [
      "-------------------------- MY_NODE --------------------------------\n",
      "State::  {'input': 'hello'}\n",
      "In Nodes:  {'configurable': {'__pregel_resuming': False, '__pregel_task_id': '1934cbd1-baa0-1682-4724-0b1af454af17', '__pregel_send': functools.partial(<function PregelRunner.tick.<locals>.writer at 0x000001F987DB5620>, PregelExecutableTask(name='my_node', input={'input': 'hello'}, proc=<langgraph.utils.runnable.RunnableSeq object at 0x000001F987E8DFD0>, writes=deque([]), config={'configurable': {'__pregel_resuming': False, '__pregel_task_id': '1934cbd1-baa0-1682-4724-0b1af454af17', '__pregel_send': functools.partial(<function local_write at 0x000001F9812DC680>, <built-in method extend of collections.deque object at 0x000001F986DC8040>, dict_keys(['__start__', 'my_node', 'other_node', 'other_node2'])), '__pregel_read': functools.partial(<function local_read at 0x000001F9812DC5E0>, 1, {'v': 1, 'ts': '2025-03-02T11:40:23.533871+00:00', 'id': '1eff75b2-0c06-6484-8000-d3450b3d4e5a', 'channel_values': {'__root__': {'input': 'hello'}, 'start:my_node': '__start__'}, 'channel_versions': {'__start__': 2, '__root__': 2, 'start:my_node': 2}, 'versions_seen': {'__input__': {}, '__start__': {'__start__': 1}}, 'pending_sends': []}, {'__root__': <langgraph.channels.last_value.LastValue object at 0x000001F986D8C9C0>, '__start__': <langgraph.channels.ephemeral_value.EphemeralValue object at 0x000001F987E98380>, 'my_node': <langgraph.channels.ephemeral_value.EphemeralValue object at 0x000001F987E9A900>, 'other_node': <langgraph.channels.ephemeral_value.EphemeralValue object at 0x000001F987E9AC40>, 'other_node2': <langgraph.channels.ephemeral_value.EphemeralValue object at 0x000001F987E99D40>, 'branch:__start__:__self__:my_node': <langgraph.channels.ephemeral_value.EphemeralValue object at 0x000001F987E99780>, 'branch:__start__:__self__:other_node': <langgraph.channels.ephemeral_value.EphemeralValue object at 0x000001F987E9A800>, 'branch:__start__:__self__:other_node2': <langgraph.channels.ephemeral_value.EphemeralValue object at 0x000001F987E98D40>, 'branch:my_node:__self__:my_node': <langgraph.channels.ephemeral_value.EphemeralValue object at 0x000001F987E98980>, 'branch:my_node:__self__:other_node': <langgraph.channels.ephemeral_value.EphemeralValue object at 0x000001F987E99100>, 'branch:my_node:__self__:other_node2': <langgraph.channels.ephemeral_value.EphemeralValue object at 0x000001F987E99280>, 'branch:other_node:__self__:my_node': <langgraph.channels.ephemeral_value.EphemeralValue object at 0x000001F987E98B40>, 'branch:other_node:__self__:other_node': <langgraph.channels.ephemeral_value.EphemeralValue object at 0x000001F987E98E00>, 'branch:other_node:__self__:other_node2': <langgraph.channels.ephemeral_value.EphemeralValue object at 0x000001F987E98A00>, 'branch:other_node2:__self__:my_node': <langgraph.channels.ephemeral_value.EphemeralValue object at 0x000001F987E99C40>, 'branch:other_node2:__self__:other_node': <langgraph.channels.ephemeral_value.EphemeralValue object at 0x000001F987E98E40>, 'branch:other_node2:__self__:other_node2': <langgraph.channels.ephemeral_value.EphemeralValue object at 0x000001F987E9A880>, 'start:my_node': <langgraph.channels.ephemeral_value.EphemeralValue object at 0x000001F987E99A40>}, {}, PregelTaskWrites(path=('__pregel_pull', 'my_node'), name='my_node', writes=deque([]), triggers=['start:my_node']), {'tags': [], 'metadata': ChainMap({}), 'callbacks': None, 'recursion_limit': 25, 'configurable': {'__pregel_resuming': False}}), '__pregel_store': None, '__pregel_checkpointer': None, 'checkpoint_map': {'': '1eff75b2-0c06-6484-8000-d3450b3d4e5a'}, 'checkpoint_id': None, 'checkpoint_ns': 'my_node:1934cbd1-baa0-1682-4724-0b1af454af17', '__pregel_scratchpad': PregelScratchpad(call_counter=<method-wrapper '__next__' of itertools.count object at 0x000001F9818E0D40>, interrupt_counter=<method-wrapper '__next__' of itertools.count object at 0x000001F9818E0580>, resume=[], null_resume=None, _consume_null_resume=<function _scratchpad.<locals>.<lambda> at 0x000001F987DB49A0>, subgraph_counter=<method-wrapper '__next__' of itertools.count object at 0x000001F9813288C0>), '__pregel_previous': None}, 'metadata': {'langgraph_step': 1, 'langgraph_node': 'my_node', 'langgraph_triggers': ['start:my_node'], 'langgraph_path': ('__pregel_pull', 'my_node'), 'langgraph_checkpoint_ns': 'my_node:1934cbd1-baa0-1682-4724-0b1af454af17'}, 'callbacks': <langchain_core.callbacks.manager.CallbackManager object at 0x000001F987DB8450>, 'run_name': 'my_node'}, triggers=['start:my_node'], retry_policy=None, cache_policy=None, id='1934cbd1-baa0-1682-4724-0b1af454af17', path=('__pregel_pull', 'my_node'), scheduled=False, writers=[ChannelWrite<...,my_node>(tags=['langsmith:hidden'], recurse=True, explode_args=False, func_accepts_config=True, func_accepts={}, writes=[ChannelWriteTupleEntry(mapper=<function CompiledStateGraph.attach_node.<locals>._get_root at 0x000001F987DB5F80>, value=<object object at 0x000001F9FF4A2BB0>), ChannelWriteEntry(channel='my_node', value='my_node', skip_none=False, mapper=None)], require_at_least_one_of=None), _route(tags=None, recurse=True, explode_args=False, func_accepts_config=True, func_accepts={}, _is_channel_writer=True)], subgraphs=[])), '__pregel_read': functools.partial(<function local_read at 0x000001F9812DC5E0>, 1, {'v': 1, 'ts': '2025-03-02T11:40:23.533871+00:00', 'id': '1eff75b2-0c06-6484-8000-d3450b3d4e5a', 'channel_values': {'__root__': {'input': 'hello'}, 'start:my_node': '__start__'}, 'channel_versions': {'__start__': 2, '__root__': 2, 'start:my_node': 2}, 'versions_seen': {'__input__': {}, '__start__': {'__start__': 1}}, 'pending_sends': []}, {'__root__': <langgraph.channels.last_value.LastValue object at 0x000001F986D8C9C0>, '__start__': <langgraph.channels.ephemeral_value.EphemeralValue object at 0x000001F987E98380>, 'my_node': <langgraph.channels.ephemeral_value.EphemeralValue object at 0x000001F987E9A900>, 'other_node': <langgraph.channels.ephemeral_value.EphemeralValue object at 0x000001F987E9AC40>, 'other_node2': <langgraph.channels.ephemeral_value.EphemeralValue object at 0x000001F987E99D40>, 'branch:__start__:__self__:my_node': <langgraph.channels.ephemeral_value.EphemeralValue object at 0x000001F987E99780>, 'branch:__start__:__self__:other_node': <langgraph.channels.ephemeral_value.EphemeralValue object at 0x000001F987E9A800>, 'branch:__start__:__self__:other_node2': <langgraph.channels.ephemeral_value.EphemeralValue object at 0x000001F987E98D40>, 'branch:my_node:__self__:my_node': <langgraph.channels.ephemeral_value.EphemeralValue object at 0x000001F987E98980>, 'branch:my_node:__self__:other_node': <langgraph.channels.ephemeral_value.EphemeralValue object at 0x000001F987E99100>, 'branch:my_node:__self__:other_node2': <langgraph.channels.ephemeral_value.EphemeralValue object at 0x000001F987E99280>, 'branch:other_node:__self__:my_node': <langgraph.channels.ephemeral_value.EphemeralValue object at 0x000001F987E98B40>, 'branch:other_node:__self__:other_node': <langgraph.channels.ephemeral_value.EphemeralValue object at 0x000001F987E98E00>, 'branch:other_node:__self__:other_node2': <langgraph.channels.ephemeral_value.EphemeralValue object at 0x000001F987E98A00>, 'branch:other_node2:__self__:my_node': <langgraph.channels.ephemeral_value.EphemeralValue object at 0x000001F987E99C40>, 'branch:other_node2:__self__:other_node': <langgraph.channels.ephemeral_value.EphemeralValue object at 0x000001F987E98E40>, 'branch:other_node2:__self__:other_node2': <langgraph.channels.ephemeral_value.EphemeralValue object at 0x000001F987E9A880>, 'start:my_node': <langgraph.channels.ephemeral_value.EphemeralValue object at 0x000001F987E99A40>}, {}, PregelTaskWrites(path=('__pregel_pull', 'my_node'), name='my_node', writes=deque([]), triggers=['start:my_node']), {'tags': [], 'metadata': ChainMap({}), 'callbacks': None, 'recursion_limit': 25, 'configurable': {'__pregel_resuming': False}}), '__pregel_store': None, '__pregel_checkpointer': None, 'checkpoint_map': {'': '1eff75b2-0c06-6484-8000-d3450b3d4e5a'}, 'checkpoint_id': None, 'checkpoint_ns': 'my_node:1934cbd1-baa0-1682-4724-0b1af454af17', '__pregel_scratchpad': PregelScratchpad(call_counter=<method-wrapper '__next__' of itertools.count object at 0x000001F9818E0D40>, interrupt_counter=<method-wrapper '__next__' of itertools.count object at 0x000001F9818E0580>, resume=[], null_resume=None, _consume_null_resume=<function _scratchpad.<locals>.<lambda> at 0x000001F987DB49A0>, subgraph_counter=<method-wrapper '__next__' of itertools.count object at 0x000001F9813288C0>), '__pregel_previous': None, '__pregel_call': functools.partial(<function PregelRunner.tick.<locals>.call at 0x000001F987DB7BA0>, PregelExecutableTask(name='my_node', input={'input': 'hello'}, proc=<langgraph.utils.runnable.RunnableSeq object at 0x000001F987E8DFD0>, writes=deque([]), config={'configurable': {'__pregel_resuming': False, '__pregel_task_id': '1934cbd1-baa0-1682-4724-0b1af454af17', '__pregel_send': functools.partial(<function local_write at 0x000001F9812DC680>, <built-in method extend of collections.deque object at 0x000001F986DC8040>, dict_keys(['__start__', 'my_node', 'other_node', 'other_node2'])), '__pregel_read': functools.partial(<function local_read at 0x000001F9812DC5E0>, 1, {'v': 1, 'ts': '2025-03-02T11:40:23.533871+00:00', 'id': '1eff75b2-0c06-6484-8000-d3450b3d4e5a', 'channel_values': {'__root__': {'input': 'hello'}, 'start:my_node': '__start__'}, 'channel_versions': {'__start__': 2, '__root__': 2, 'start:my_node': 2}, 'versions_seen': {'__input__': {}, '__start__': {'__start__': 1}}, 'pending_sends': []}, {'__root__': <langgraph.channels.last_value.LastValue object at 0x000001F986D8C9C0>, '__start__': <langgraph.channels.ephemeral_value.EphemeralValue object at 0x000001F987E98380>, 'my_node': <langgraph.channels.ephemeral_value.EphemeralValue object at 0x000001F987E9A900>, 'other_node': <langgraph.channels.ephemeral_value.EphemeralValue object at 0x000001F987E9AC40>, 'other_node2': <langgraph.channels.ephemeral_value.EphemeralValue object at 0x000001F987E99D40>, 'branch:__start__:__self__:my_node': <langgraph.channels.ephemeral_value.EphemeralValue object at 0x000001F987E99780>, 'branch:__start__:__self__:other_node': <langgraph.channels.ephemeral_value.EphemeralValue object at 0x000001F987E9A800>, 'branch:__start__:__self__:other_node2': <langgraph.channels.ephemeral_value.EphemeralValue object at 0x000001F987E98D40>, 'branch:my_node:__self__:my_node': <langgraph.channels.ephemeral_value.EphemeralValue object at 0x000001F987E98980>, 'branch:my_node:__self__:other_node': <langgraph.channels.ephemeral_value.EphemeralValue object at 0x000001F987E99100>, 'branch:my_node:__self__:other_node2': <langgraph.channels.ephemeral_value.EphemeralValue object at 0x000001F987E99280>, 'branch:other_node:__self__:my_node': <langgraph.channels.ephemeral_value.EphemeralValue object at 0x000001F987E98B40>, 'branch:other_node:__self__:other_node': <langgraph.channels.ephemeral_value.EphemeralValue object at 0x000001F987E98E00>, 'branch:other_node:__self__:other_node2': <langgraph.channels.ephemeral_value.EphemeralValue object at 0x000001F987E98A00>, 'branch:other_node2:__self__:my_node': <langgraph.channels.ephemeral_value.EphemeralValue object at 0x000001F987E99C40>, 'branch:other_node2:__self__:other_node': <langgraph.channels.ephemeral_value.EphemeralValue object at 0x000001F987E98E40>, 'branch:other_node2:__self__:other_node2': <langgraph.channels.ephemeral_value.EphemeralValue object at 0x000001F987E9A880>, 'start:my_node': <langgraph.channels.ephemeral_value.EphemeralValue object at 0x000001F987E99A40>}, {}, PregelTaskWrites(path=('__pregel_pull', 'my_node'), name='my_node', writes=deque([]), triggers=['start:my_node']), {'tags': [], 'metadata': ChainMap({}), 'callbacks': None, 'recursion_limit': 25, 'configurable': {'__pregel_resuming': False}}), '__pregel_store': None, '__pregel_checkpointer': None, 'checkpoint_map': {'': '1eff75b2-0c06-6484-8000-d3450b3d4e5a'}, 'checkpoint_id': None, 'checkpoint_ns': 'my_node:1934cbd1-baa0-1682-4724-0b1af454af17', '__pregel_scratchpad': PregelScratchpad(call_counter=<method-wrapper '__next__' of itertools.count object at 0x000001F9818E0D40>, interrupt_counter=<method-wrapper '__next__' of itertools.count object at 0x000001F9818E0580>, resume=[], null_resume=None, _consume_null_resume=<function _scratchpad.<locals>.<lambda> at 0x000001F987DB49A0>, subgraph_counter=<method-wrapper '__next__' of itertools.count object at 0x000001F9813288C0>), '__pregel_previous': None}, 'metadata': {'langgraph_step': 1, 'langgraph_node': 'my_node', 'langgraph_triggers': ['start:my_node'], 'langgraph_path': ('__pregel_pull', 'my_node'), 'langgraph_checkpoint_ns': 'my_node:1934cbd1-baa0-1682-4724-0b1af454af17'}, 'callbacks': <langchain_core.callbacks.manager.CallbackManager object at 0x000001F987DB8450>, 'run_name': 'my_node'}, triggers=['start:my_node'], retry_policy=None, cache_policy=None, id='1934cbd1-baa0-1682-4724-0b1af454af17', path=('__pregel_pull', 'my_node'), scheduled=False, writers=[ChannelWrite<...,my_node>(tags=['langsmith:hidden'], recurse=True, explode_args=False, func_accepts_config=True, func_accepts={}, writes=[ChannelWriteTupleEntry(mapper=<function CompiledStateGraph.attach_node.<locals>._get_root at 0x000001F987DB5F80>, value=<object object at 0x000001F9FF4A2BB0>), ChannelWriteEntry(channel='my_node', value='my_node', skip_none=False, mapper=None)], require_at_least_one_of=None), _route(tags=None, recurse=True, explode_args=False, func_accepts_config=True, func_accepts={}, _is_channel_writer=True)], subgraphs=[]))}, 'metadata': {'langgraph_step': 1, 'langgraph_node': 'my_node', 'langgraph_triggers': ['start:my_node'], 'langgraph_path': ('__pregel_pull', 'my_node'), 'langgraph_checkpoint_ns': 'my_node:1934cbd1-baa0-1682-4724-0b1af454af17'}, 'callbacks': <langchain_core.callbacks.manager.CallbackManager object at 0x000001F986D601D0>}\n",
      "Results:  Hello hello\n",
      "------------------------------ OTHER_NODE --------------------------\n",
      "STATE::  {'Results': 'hello'}\n",
      "------------------------------ OTHER_NODE 2 ---------------------------\n",
      "STATE::  {'Results': 'hello'}\n"
     ]
    },
    {
     "data": {
      "text/plain": [
       "{'Results': 'hello'}"
      ]
     },
     "execution_count": 34,
     "metadata": {},
     "output_type": "execute_result"
    }
   ],
   "source": [
    "from langgraph.graph import START, END\n",
    "\n",
    "builder.add_edge(START, \"my_node\")\n",
    "builder.add_edge(\"my_node\" , \"other_node\")\n",
    "builder.add_edge(\"other_node\",\"other_node2\")\n",
    "builder.add_edge(\"my_node\",END)\n",
    "\n",
    "graph = builder.compile()\n",
    "\n",
    "graph.invoke({\"input\":\"hello\"})"
   ]
  },
  {
   "cell_type": "code",
   "execution_count": 46,
   "metadata": {},
   "outputs": [
    {
     "data": {
      "image/png": "[encoded data removed]",
      "text/plain": [
       "<IPython.core.display.Image object>"
      ]
     },
     "metadata": {},
     "output_type": "display_data"
    }
   ],
   "source": [
    "from IPython.display import Image, display\n",
    "\n",
    "try:\n",
    "    display(Image(graph.get_graph().draw_mermaid_png()))\n",
    "except Exception:\n",
    "    # This requires some extra dependencies and is optional\n",
    "   pass "
   ]
  },
  {
   "cell_type": "markdown",
   "metadata": {},
   "source": [
    "## Edges\n",
    "\n",
    "Edges define how the node is routed and how the graph decides to stop. This is big part of how your agents work and how different nodes communicate with each other. There are a few types of edges.\n",
    "\n",
    "* `Normal Edges`: Go directly from one node to another node.\n",
    "* `Conditional Edges`: Call a function to dermine which nodes to go to next.\n",
    "* `Entry point`: Which node to call first when user input arrives.\n",
    "* `Conditional Entry point`: Call a function to determine.\n",
    "\n",
    "A Node can have MULTIPLE outgoing edges. If a node has multiple out-going edges, all of those destination nodes will be executed in parallel as a part of the next superstep.\n",
    "\n",
    "* `Normal Edge`\n",
    "    * If you always want to go from node A to node B you can use the `add_edge` method directly.\n",
    "    \n",
    "        Eg: `add_edge(\"node_a\", \"node_b\")`\n",
    "\n",
    "* `Conditional Edge`\n",
    "    * If you want to add some logic based on the logic you want to route edges you can you this one. This method accept the name of a node and a \"routing function\" to call after the node is executed.\n",
    "\n",
    "        Eg: `graph.add_conditional_edges(\"node_a\", routing_function)`\n",
    "\n",
    "    * Similar to nodes, the `routing_function` accepts the current `state` of the graph and returns a value (node value which we will describe on the func).\n",
    "    * By default, the return value the `routing_function` is used as the name of the node(or list of nodes) to send the state to next. All those nodes will be run in parellel as a part of the next superstep.\n",
    "    * You can optionally provide a dictionary that maps the routing_function's output to the name of the next node.\n",
    "\n",
    "        Eg: `graph.add_conditional_edges(\"node_a\", routing_function, {True: \"node_b\", False: \"node_c\"})`.\n",
    "\n",
    "* `Entry Point`\n",
    "    * The entry point is the first node(s) that are run when the graph start. You can use the `add_edge` method from the virtual `START` node to the first node to execute to specify where to enter the graph.\n",
    "    \n",
    "        Eg: `from langgraph.graph import START\n",
    "             graph.add_edge(START, \"node_a\")`\n",
    "\n",
    "* `Conditional Entry point`\n",
    "    * In this we pass a conditional function based on the logic inside the function we call the node.\n",
    "        Eg: `graph.add_conditional_edges(START, routing_function)`\n",
    "\n",
    "    * You can optionally provide a dictionary that maps the routing_function's output to the name of the next node.\n",
    "        Eg: `graph.add_conditional_edges(START, routing_function, {True: \"node_b\", False: \"node_c\"})`.\n"
   ]
  }
 ],
 "metadata": {
  "kernelspec": {
   "display_name": ".venv",
   "language": "python",
   "name": "python3"
  },
  "language_info": {
   "codemirror_mode": {
    "name": "ipython",
    "version": 3
   },
   "file_extension": ".py",
   "mimetype": "text/x-python",
   "name": "python",
   "nbconvert_exporter": "python",
   "pygments_lexer": "ipython3",
   "version": "3.13.0"
  }
 },
 "nbformat": 4,
 "nbformat_minor": 2
}
