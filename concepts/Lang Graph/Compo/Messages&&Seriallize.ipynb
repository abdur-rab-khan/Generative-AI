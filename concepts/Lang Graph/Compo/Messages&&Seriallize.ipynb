{
 "cells": [
  {
   "cell_type": "markdown",
   "metadata": {},
   "source": [
    "## Working with messages in Graph State.\n",
    "### Why Messages use?.\n",
    "Most of the mordern LLM'S provides a chat model interface that accept a list of messages as an input. Langchain's ChatModel accept list of messages object as an input. These Messages are come with variety of forms such as (`HumanMessage`, `AIMessage`, `ToolMessage`).\n",
    "\n",
    "### Using Messages in our Graph.\n",
    "* It is helpful to store the prior conversation history as a list of messages in our graph state.\n",
    "* To do this, we can add a key (channel) to the graph state that stores a list of `Message` objects and annotated with their reducer function.\n",
    "* By using `operator.add` as a reducer they simply append the messages to the existing list `But sometime you does not want like that.`\n",
    "    * We might also want to update manually in our graph state (eg. `human-in-the-loop`). In this case if you we `operator.add` the manual state updates you send to the graph would be appended to the existing list of messages, instead of updating exisiting messages\n",
    "    * TO avoid this we use pre-build function called `add_messages` function. For brand new messages it will simply append to existing list, but it will also handle the update for existing messages correctly."
   ]
  },
  {
   "cell_type": "markdown",
   "metadata": {
    "vscode": {
     "languageId": "plaintext"
    }
   },
   "source": [
    "## Seriallize\n",
    "* It is a process to change objects (like prompts, chains, tools, memory, etc.) into a format that can be saved, transmitted, and later reconstructed.\n",
    "* In addition to keep track of messages IDs. the `add_messages` function will also try to deseriallize message into Langchain `Message` objects. whenever a `State` update is received on the `messages` channel.\n",
    "This allows sending graph inputs / state updates in the following format:\n"
   ]
  },
  {
   "cell_type": "code",
   "execution_count": null,
   "metadata": {},
   "outputs": [
    {
     "ename": "NameError",
     "evalue": "name 'HumanMessage' is not defined",
     "output_type": "error",
     "traceback": [
      "\u001b[1;31m---------------------------------------------------------------------------\u001b[0m",
      "\u001b[1;31mNameError\u001b[0m                                 Traceback (most recent call last)",
      "Cell \u001b[1;32mIn[1], line 2\u001b[0m\n\u001b[0;32m      1\u001b[0m \u001b[38;5;66;03m# this is supported\u001b[39;00m\n\u001b[1;32m----> 2\u001b[0m {\u001b[38;5;124m\"\u001b[39m\u001b[38;5;124mmessages\u001b[39m\u001b[38;5;124m\"\u001b[39m: [\u001b[43mHumanMessage\u001b[49m(content\u001b[38;5;241m=\u001b[39m\u001b[38;5;124m\"\u001b[39m\u001b[38;5;124mmessage\u001b[39m\u001b[38;5;124m\"\u001b[39m)]}\n\u001b[0;32m      4\u001b[0m \u001b[38;5;66;03m# and this is also supported\u001b[39;00m\n\u001b[0;32m      5\u001b[0m {\u001b[38;5;124m\"\u001b[39m\u001b[38;5;124mmessages\u001b[39m\u001b[38;5;124m\"\u001b[39m: [{\u001b[38;5;124m\"\u001b[39m\u001b[38;5;124mtype\u001b[39m\u001b[38;5;124m\"\u001b[39m: \u001b[38;5;124m\"\u001b[39m\u001b[38;5;124mhuman\u001b[39m\u001b[38;5;124m\"\u001b[39m, \u001b[38;5;124m\"\u001b[39m\u001b[38;5;124mcontent\u001b[39m\u001b[38;5;124m\"\u001b[39m: \u001b[38;5;124m\"\u001b[39m\u001b[38;5;124mmessage\u001b[39m\u001b[38;5;124m\"\u001b[39m}]}\n",
      "\u001b[1;31mNameError\u001b[0m: name 'HumanMessage' is not defined"
     ]
    }
   ],
   "source": [
    "# this is supported\n",
    "{\"messages\": [HumanMessage(content=\"message\")]}\n",
    "\n",
    "# and this is also supported\n",
    "{\"messages\": [{\"type\": \"human\", \"content\": \"message\"}]}"
   ]
  },
  {
   "cell_type": "markdown",
   "metadata": {},
   "source": []
  }
 ],
 "metadata": {
  "kernelspec": {
   "display_name": ".venv",
   "language": "python",
   "name": "python3"
  },
  "language_info": {
   "codemirror_mode": {
    "name": "ipython",
    "version": 3
   },
   "file_extension": ".py",
   "mimetype": "text/x-python",
   "name": "python",
   "nbconvert_exporter": "python",
   "pygments_lexer": "ipython3",
   "version": "3.13.0"
  }
 },
 "nbformat": 4,
 "nbformat_minor": 2
}
