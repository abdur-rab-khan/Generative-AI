{
 "cells": [
  {
   "cell_type": "markdown",
   "id": "4f94b785",
   "metadata": {},
   "source": [
    "* To understand more in details [refer](./tool.md)"
   ]
  },
  {
   "cell_type": "markdown",
   "id": "e8a0ae22",
   "metadata": {},
   "source": [
    "# ⚒️ Tools in LangChain"
   ]
  },
  {
   "cell_type": "markdown",
   "id": "318b0346",
   "metadata": {},
   "source": [
    "## Create tools using `@tool` decorator"
   ]
  },
  {
   "cell_type": "code",
   "execution_count": null,
   "id": "5dacb667",
   "metadata": {},
   "outputs": [
    {
     "name": "stdout",
     "output_type": "stream",
     "text": [
      "multiply_two_numbers\n",
      "Multiply two numbers\n",
      "{'a': {'title': 'A', 'type': 'integer'}, 'b': {'title': 'B', 'type': 'integer'}}\n"
     ]
    }
   ],
   "source": [
    "from langchain_core.tools import tool\n",
    "\n",
    "\n",
    "@tool(\"multiply_two_numbers\")\n",
    "def multiply(a: int, b: int) -> int:\n",
    "    \"\"\"Multiply two numbers\"\"\"\n",
    "    return a * b\n",
    "\n",
    "# OR\n",
    "\n",
    "# For async\n",
    "\n",
    "\n",
    "@tool\n",
    "def amultiply(a: int, b: int) -> int:\n",
    "    \"\"\"multiply two number\"\"\"\n",
    "    return a * b\n",
    "\n",
    "\n",
    "# Without providing \"multiply_two_number\" @tool default set function name as a tool name.\n",
    "print(multiply.name)\n",
    "print(multiply.description)\n",
    "print(multiply.args)"
   ]
  },
  {
   "cell_type": "markdown",
   "id": "0eeac5c9",
   "metadata": {},
   "source": [
    "### Using [`Annotated`](../additionals/annotated.ipynb) in Tool"
   ]
  },
  {
   "cell_type": "code",
   "execution_count": 9,
   "id": "3ecd497a",
   "metadata": {},
   "outputs": [
    {
     "name": "stdout",
     "output_type": "stream",
     "text": [
      "{'description': 'Multiply a by the max of b', 'properties': {'a': {'description': 'scale factor', 'title': 'A', 'type': 'integer'}, 'b': {'description': 'list of ints over which to take maximum', 'items': {'type': 'integer'}, 'title': 'B', 'type': 'array'}}, 'required': ['a', 'b'], 'title': 'multiply_max', 'type': 'object'}\n"
     ]
    }
   ],
   "source": [
    "from typing import Annotated, List\n",
    "\n",
    "\n",
    "@tool\n",
    "def multiply_max(a: Annotated[int, \"scale factor\"], b: Annotated[List[int], \"list of ints over which to take maximum\"]) -> int:\n",
    "    \"\"\"Multiply a by the max of b\"\"\"\n",
    "    return a * max(b)\n",
    "\n",
    "\n",
    "print(multiply_max.args_schema.model_json_schema())"
   ]
  },
  {
   "cell_type": "markdown",
   "id": "6682f5da",
   "metadata": {},
   "source": [
    "### Also we can customize JSON schema"
   ]
  },
  {
   "cell_type": "code",
   "execution_count": 10,
   "id": "41b18782",
   "metadata": {},
   "outputs": [
    {
     "name": "stdout",
     "output_type": "stream",
     "text": [
      "multiplication-tool\n",
      "Multiply two numbers.\n",
      "{'a': {'description': 'first number', 'title': 'A', 'type': 'integer'}, 'b': {'description': 'second number', 'title': 'B', 'type': 'integer'}}\n",
      "True\n"
     ]
    }
   ],
   "source": [
    "from pydantic import BaseModel, Field\n",
    "\n",
    "\n",
    "class CalculatorInput(BaseModel):\n",
    "    a: int = Field(description=\"first number\")\n",
    "    b: int = Field(description=\"second number\")\n",
    "\n",
    "\n",
    "@tool(\"multiplication-tool\", args_schema=CalculatorInput, return_direct=True)\n",
    "def multiply(a: int, b: int) -> int:\n",
    "    \"\"\"Multiply two numbers.\"\"\"\n",
    "    return a * b\n",
    "\n",
    "\n",
    "# Let's inspect some of the attributes associated with the tool.\n",
    "print(multiply.name)\n",
    "print(multiply.description)\n",
    "print(multiply.args)\n",
    "print(multiply.return_direct)"
   ]
  },
  {
   "cell_type": "markdown",
   "id": "587199b4",
   "metadata": {},
   "source": [
    "### Tools are also support docstring like Google Style docstring and langChain convert into JSON schema"
   ]
  },
  {
   "cell_type": "code",
   "execution_count": 7,
   "id": "a359491c",
   "metadata": {},
   "outputs": [
    {
     "name": "stdout",
     "output_type": "stream",
     "text": [
      "{'description': 'The foo.', 'properties': {'bar': {'description': 'The bar.', 'title': 'Bar', 'type': 'string'}, 'baz': {'description': 'The baz.', 'title': 'Baz', 'type': 'integer'}}, 'required': ['bar', 'baz'], 'title': 'foo', 'type': 'object'}\n"
     ]
    }
   ],
   "source": [
    "@tool(parse_docstring=True)\n",
    "def foo(bar: str, baz: int) -> str:\n",
    "    \"\"\"The foo.\n",
    "\n",
    "    Args:\n",
    "        bar: The bar.\n",
    "        baz: The baz.\n",
    "    \"\"\"\n",
    "    return bar\n",
    "\n",
    "\n",
    "print(foo.args_schema.model_json_schema())"
   ]
  },
  {
   "cell_type": "markdown",
   "id": "c0ecf7bc",
   "metadata": {},
   "source": [
    "### Build tools using StructureTool"
   ]
  },
  {
   "cell_type": "code",
   "execution_count": 8,
   "id": "ff81a265",
   "metadata": {},
   "outputs": [
    {
     "name": "stdout",
     "output_type": "stream",
     "text": [
      "6\n",
      "10\n"
     ]
    }
   ],
   "source": [
    "from langchain_core.tools import StructuredTool\n",
    "\n",
    "\n",
    "def multiply(a: int, b: int) -> int:\n",
    "    \"\"\"Multiply two numbers.\"\"\"\n",
    "    return a * b\n",
    "\n",
    "\n",
    "async def amultiply(a: int, b: int) -> int:\n",
    "    \"\"\"Multiply two numbers.\"\"\"\n",
    "    return a * b\n",
    "\n",
    "\n",
    "calculator = StructuredTool.from_function(func=multiply, coroutine=amultiply)\n",
    "\n",
    "print(calculator.invoke({\"a\": 2, \"b\": 3}))\n",
    "print(await calculator.ainvoke({\"a\": 2, \"b\": 5}))"
   ]
  },
  {
   "cell_type": "code",
   "execution_count": null,
   "id": "0ea7a734",
   "metadata": {},
   "outputs": [
    {
     "name": "stdout",
     "output_type": "stream",
     "text": [
      "6\n",
      "calculator\n",
      "multiply two numbers\n",
      "{'a': {'description': 'first number', 'title': 'A', 'type': 'integer'}, 'b': {'description': 'second number', 'title': 'B', 'type': 'integer'}}\n",
      "{'properties': {'a': {'description': 'first number', 'title': 'A', 'type': 'integer'}, 'b': {'description': 'second number', 'title': 'B', 'type': 'integer'}}, 'required': ['a', 'b'], 'title': 'CalculateInput', 'type': 'object'}\n"
     ]
    }
   ],
   "source": [
    "from pydantic import BaseModel, Field\n",
    "from langchain_core.tools import StructuredTool\n",
    "\n",
    "\n",
    "class CalculateInput(BaseModel):\n",
    "    a: int = Field(description=\"first number\")\n",
    "    b: int = Field(description=\"second number\")\n",
    "\n",
    "\n",
    "def multiply(a: int, b: int) -> int:\n",
    "    \"\"\"Multiply two numbers.\"\"\"\n",
    "    return a * b\n",
    "\n",
    "\n",
    "calculator = StructuredTool.from_function(\n",
    "    func=multiply,\n",
    "    name=\"calculator\",\n",
    "    description=\"multiply two numbers\",\n",
    "    args_schema=CalculateInput,\n",
    "    return_direct=True,\n",
    "    # coroutine= ... <- you can specify an async method if desired as well\n",
    ")\n",
    "\n",
    "print(calculator.invoke({\"a\": 2, \"b\": 3}))\n",
    "print(calculator.name)\n",
    "print(calculator.description)\n",
    "print(calculator.args)"
   ]
  },
  {
   "cell_type": "markdown",
   "id": "325a930f",
   "metadata": {},
   "source": [
    "## Creating Tools using [runnables](../additionals/runnable.md)"
   ]
  },
  {
   "cell_type": "markdown",
   "id": "4cd6d319",
   "metadata": {},
   "source": [
    "## Creating Tools using BaseTool"
   ]
  },
  {
   "cell_type": "markdown",
   "id": "8b11cc42",
   "metadata": {},
   "source": [
    "### How to create async tools"
   ]
  },
  {
   "cell_type": "markdown",
   "id": "411d2294",
   "metadata": {},
   "source": [
    "### How to handling tool errors"
   ]
  },
  {
   "cell_type": "code",
   "execution_count": null,
   "id": "bf8ddd1d",
   "metadata": {},
   "outputs": [
    {
     "data": {
      "text/plain": [
       "\"There is no such city, but it's probably above 0K there!\""
      ]
     },
     "execution_count": 21,
     "metadata": {},
     "output_type": "execute_result"
    }
   ],
   "source": [
    "from langchain_core.tools import ToolException, StructuredTool\n",
    "\n",
    "\n",
    "def get_weather(city: str):\n",
    "    \"\"\"\n",
    "    Get the weather of give city name\n",
    "\n",
    "\n",
    "    Args:\n",
    "        city: city name\n",
    "    \"\"\"\n",
    "    raise ToolException(f\"Error: There is no city by the name of {city}\")\n",
    "\n",
    "\n",
    "get_weather_tool = StructuredTool.from_function(\n",
    "    func=get_weather,\n",
    "    handle_tool_error=True,\n",
    ")\n",
    "\n",
    "get_weather_tool.invoke({\"city\": \"foo\"})"
   ]
  },
  {
   "cell_type": "markdown",
   "id": "73510f28",
   "metadata": {},
   "source": [
    "* We can define string instead of `handle_tool_error = True`, `handle_tool_error=\"string\"`, In here when any exception occur return this string any error."
   ]
  },
  {
   "cell_type": "code",
   "execution_count": 22,
   "id": "5248b192",
   "metadata": {},
   "outputs": [
    {
     "data": {
      "text/plain": [
       "\"There is no such city, but it's probably above 0K there!\""
      ]
     },
     "execution_count": 22,
     "metadata": {},
     "output_type": "execute_result"
    }
   ],
   "source": [
    "get_weather_tool = StructuredTool.from_function(\n",
    "    func=get_weather,\n",
    "    handle_tool_error=\"There is no such city, but it's probably above 0K there!\"\n",
    ")\n",
    "\n",
    "get_weather_tool.invoke({\"city\": \"foo\"})"
   ]
  },
  {
   "cell_type": "markdown",
   "id": "c94a6105",
   "metadata": {},
   "source": [
    "* We can define function also."
   ]
  },
  {
   "cell_type": "code",
   "execution_count": 23,
   "id": "73e3a4bb",
   "metadata": {},
   "outputs": [
    {
     "data": {
      "text/plain": [
       "'The following errors occurred during tool execution: `Error: There is no city by the name of foobar`'"
      ]
     },
     "execution_count": 23,
     "metadata": {},
     "output_type": "execute_result"
    }
   ],
   "source": [
    "def _handle_error(error: ToolException) -> str:\n",
    "    return f\"The following errors occurred during tool execution: `{error.args[0]}`\"\n",
    "\n",
    "\n",
    "get_weather_tool = StructuredTool.from_function(\n",
    "    func=get_weather,\n",
    "    handle_tool_error=_handle_error,\n",
    ")\n",
    "\n",
    "get_weather_tool.invoke({\"city\": \"foobar\"})"
   ]
  }
 ],
 "metadata": {
  "kernelspec": {
   "display_name": "myenv",
   "language": "python",
   "name": "python3"
  },
  "language_info": {
   "codemirror_mode": {
    "name": "ipython",
    "version": 3
   },
   "file_extension": ".py",
   "mimetype": "text/x-python",
   "name": "python",
   "nbconvert_exporter": "python",
   "pygments_lexer": "ipython3",
   "version": "3.13.0"
  }
 },
 "nbformat": 4,
 "nbformat_minor": 5
}
