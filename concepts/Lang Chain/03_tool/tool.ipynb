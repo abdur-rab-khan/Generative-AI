{
 "cells": [
  {
   "cell_type": "markdown",
   "id": "4f94b785",
   "metadata": {},
   "source": [
    "* To understand more in details [refer](./tool.md)"
   ]
  },
  {
   "cell_type": "markdown",
   "id": "e8a0ae22",
   "metadata": {},
   "source": [
    "# ⚒️ Tools in LangChain"
   ]
  },
  {
   "cell_type": "markdown",
   "id": "318b0346",
   "metadata": {},
   "source": [
    "## Create tools using `@tool` decorator"
   ]
  },
  {
   "cell_type": "code",
   "execution_count": null,
   "id": "5dacb667",
   "metadata": {},
   "outputs": [
    {
     "name": "stdout",
     "output_type": "stream",
     "text": [
      "multiply_two_numbers\n",
      "Multiply two numbers\n",
      "{'a': {'title': 'A', 'type': 'integer'}, 'b': {'title': 'B', 'type': 'integer'}}\n"
     ]
    }
   ],
   "source": [
    "from langchain_core.tools import tool\n",
    "\n",
    "\n",
    "@tool(\"multiply_two_numbers\")\n",
    "def multiply(a: int, b: int) -> int:\n",
    "    \"\"\"Multiply two numbers\"\"\"\n",
    "    return a * b\n",
    "\n",
    "# OR\n",
    "\n",
    "# For async\n",
    "\n",
    "\n",
    "@tool\n",
    "def amultiply(a: int, b: int) -> int:\n",
    "    \"\"\"multiply two number\"\"\"\n",
    "    return a * b\n",
    "\n",
    "\n",
    "# Without providing \"multiply_two_number\" @tool default set function name as a tool name.\n",
    "print(multiply.name)\n",
    "print(multiply.description)\n",
    "print(multiply.args)"
   ]
  },
  {
   "cell_type": "markdown",
   "id": "0eeac5c9",
   "metadata": {},
   "source": [
    "### Using [`Annotated`](../additionals/annotated.ipynb) in Tool"
   ]
  },
  {
   "cell_type": "code",
   "execution_count": 9,
   "id": "3ecd497a",
   "metadata": {},
   "outputs": [
    {
     "name": "stdout",
     "output_type": "stream",
     "text": [
      "{'description': 'Multiply a by the max of b', 'properties': {'a': {'description': 'scale factor', 'title': 'A', 'type': 'integer'}, 'b': {'description': 'list of ints over which to take maximum', 'items': {'type': 'integer'}, 'title': 'B', 'type': 'array'}}, 'required': ['a', 'b'], 'title': 'multiply_max', 'type': 'object'}\n"
     ]
    }
   ],
   "source": [
    "from typing import Annotated, List\n",
    "\n",
    "\n",
    "@tool\n",
    "def multiply_max(a: Annotated[int, \"scale factor\"], b: Annotated[List[int], \"list of ints over which to take maximum\"]) -> int:\n",
    "    \"\"\"Multiply a by the max of b\"\"\"\n",
    "    return a * max(b)\n",
    "\n",
    "\n",
    "print(multiply_max.args_schema.model_json_schema())"
   ]
  },
  {
   "cell_type": "markdown",
   "id": "6682f5da",
   "metadata": {},
   "source": [
    "### Also we can customize JSON schema"
   ]
  },
  {
   "cell_type": "code",
   "execution_count": 10,
   "id": "41b18782",
   "metadata": {},
   "outputs": [
    {
     "name": "stdout",
     "output_type": "stream",
     "text": [
      "multiplication-tool\n",
      "Multiply two numbers.\n",
      "{'a': {'description': 'first number', 'title': 'A', 'type': 'integer'}, 'b': {'description': 'second number', 'title': 'B', 'type': 'integer'}}\n",
      "True\n"
     ]
    }
   ],
   "source": [
    "from pydantic import BaseModel, Field\n",
    "\n",
    "\n",
    "class CalculatorInput(BaseModel):\n",
    "    a: int = Field(description=\"first number\")\n",
    "    b: int = Field(description=\"second number\")\n",
    "\n",
    "\n",
    "@tool(\"multiplication-tool\", args_schema=CalculatorInput, return_direct=True)\n",
    "def multiply(a: int, b: int) -> int:\n",
    "    \"\"\"Multiply two numbers.\"\"\"\n",
    "    return a * b\n",
    "\n",
    "\n",
    "# Let's inspect some of the attributes associated with the tool.\n",
    "print(multiply.name)\n",
    "print(multiply.description)\n",
    "print(multiply.args)\n",
    "print(multiply.return_direct)"
   ]
  },
  {
   "cell_type": "markdown",
   "id": "587199b4",
   "metadata": {},
   "source": [
    "### Tools are also support docstring like Google Style docstring and langChain convert into JSON schema"
   ]
  },
  {
   "cell_type": "code",
   "execution_count": 15,
   "id": "a359491c",
   "metadata": {},
   "outputs": [
    {
     "name": "stdout",
     "output_type": "stream",
     "text": [
      "{'description': 'The foo.', 'properties': {'bar': {'description': 'The bar.', 'title': 'Bar', 'type': 'string'}, 'baz': {'description': 'The baz.', 'title': 'Baz', 'type': 'integer'}}, 'required': ['bar', 'baz'], 'title': 'foo', 'type': 'object'}\n"
     ]
    }
   ],
   "source": [
    "@tool(parse_docstring=True)\n",
    "def foo(bar: str, baz: int) -> str:\n",
    "    \"\"\"The foo.\n",
    "\n",
    "    Args:\n",
    "        bar: The bar.\n",
    "        baz: The baz.\n",
    "    \"\"\"\n",
    "    return bar\n",
    "\n",
    "\n",
    "print(foo.args_schema.model_json_schema())"
   ]
  },
  {
   "cell_type": "markdown",
   "id": "c0ecf7bc",
   "metadata": {},
   "source": [
    "### Build tools using StructureTool"
   ]
  },
  {
   "cell_type": "code",
   "execution_count": 8,
   "id": "ff81a265",
   "metadata": {},
   "outputs": [
    {
     "name": "stdout",
     "output_type": "stream",
     "text": [
      "6\n",
      "10\n"
     ]
    }
   ],
   "source": [
    "from langchain_core.tools import StructuredTool\n",
    "\n",
    "\n",
    "def multiply(a: int, b: int) -> int:\n",
    "    \"\"\"Multiply two numbers.\"\"\"\n",
    "    return a * b\n",
    "\n",
    "\n",
    "async def amultiply(a: int, b: int) -> int:\n",
    "    \"\"\"Multiply two numbers.\"\"\"\n",
    "    return a * b\n",
    "\n",
    "\n",
    "calculator = StructuredTool.from_function(func=multiply, coroutine=amultiply)\n",
    "\n",
    "print(calculator.invoke({\"a\": 2, \"b\": 3}))\n",
    "print(await calculator.ainvoke({\"a\": 2, \"b\": 5}))"
   ]
  },
  {
   "cell_type": "code",
   "execution_count": null,
   "id": "0ea7a734",
   "metadata": {},
   "outputs": [
    {
     "name": "stdout",
     "output_type": "stream",
     "text": [
      "6\n",
      "calculator\n",
      "multiply two numbers\n",
      "{'a': {'description': 'first number', 'title': 'A', 'type': 'integer'}, 'b': {'description': 'second number', 'title': 'B', 'type': 'integer'}}\n",
      "{'properties': {'a': {'description': 'first number', 'title': 'A', 'type': 'integer'}, 'b': {'description': 'second number', 'title': 'B', 'type': 'integer'}}, 'required': ['a', 'b'], 'title': 'CalculateInput', 'type': 'object'}\n"
     ]
    }
   ],
   "source": [
    "from pydantic import BaseModel, Field\n",
    "from langchain_core.tools import StructuredTool\n",
    "\n",
    "\n",
    "class CalculateInput(BaseModel):\n",
    "    a: int = Field(description=\"first number\")\n",
    "    b: int = Field(description=\"second number\")\n",
    "\n",
    "\n",
    "def multiply(a: int, b: int) -> int:\n",
    "    \"\"\"Multiply two numbers.\"\"\"\n",
    "    return a * b\n",
    "\n",
    "\n",
    "calculator = StructuredTool.from_function(\n",
    "    func=multiply,\n",
    "    name=\"calculator\",\n",
    "    description=\"multiply two numbers\",\n",
    "    args_schema=CalculateInput,\n",
    "    return_direct=True,\n",
    "    # coroutine= ... <- you can specify an async method if desired as well\n",
    ")\n",
    "\n",
    "print(calculator.invoke({\"a\": 2, \"b\": 3}))\n",
    "print(calculator.name)\n",
    "print(calculator.description)\n",
    "print(calculator.args)"
   ]
  },
  {
   "cell_type": "markdown",
   "id": "325a930f",
   "metadata": {},
   "source": [
    "## Creating Tools using [runnables](../additionals/runnable.md)"
   ]
  },
  {
   "cell_type": "markdown",
   "id": "4cd6d319",
   "metadata": {},
   "source": [
    "## Creating Tools using BaseTool"
   ]
  },
  {
   "cell_type": "code",
   "execution_count": null,
   "id": "9bfe2c67",
   "metadata": {},
   "outputs": [
    {
     "name": "stdout",
     "output_type": "stream",
     "text": [
      "calculator\n",
      "useful for when you need to solve math problems.\n",
      "{'a': {'description': 'second number', 'title': 'A', 'type': 'integer'}}\n",
      "True\n"
     ]
    },
    {
     "ename": "TypeError",
     "evalue": "CustomCalculatorTool._run() missing 1 required positional argument: 'b'",
     "output_type": "error",
     "traceback": [
      "\u001b[31m---------------------------------------------------------------------------\u001b[39m",
      "\u001b[31mTypeError\u001b[39m                                 Traceback (most recent call last)",
      "\u001b[36mCell\u001b[39m\u001b[36m \u001b[39m\u001b[32mIn[40]\u001b[39m\u001b[32m, line 39\u001b[39m\n\u001b[32m     36\u001b[39m \u001b[38;5;28mprint\u001b[39m(multiply.args)\n\u001b[32m     37\u001b[39m \u001b[38;5;28mprint\u001b[39m(multiply.return_direct)\n\u001b[32m---> \u001b[39m\u001b[32m39\u001b[39m \u001b[38;5;28mprint\u001b[39m(\u001b[43mmultiply\u001b[49m\u001b[43m.\u001b[49m\u001b[43minvoke\u001b[49m\u001b[43m(\u001b[49m\u001b[43m{\u001b[49m\u001b[33;43m\"\u001b[39;49m\u001b[33;43ma\u001b[39;49m\u001b[33;43m\"\u001b[39;49m\u001b[43m:\u001b[49m\u001b[43m \u001b[49m\u001b[32;43m2\u001b[39;49m\u001b[43m,\u001b[49m\u001b[43m \u001b[49m\u001b[33;43m\"\u001b[39;49m\u001b[33;43mb\u001b[39;49m\u001b[33;43m\"\u001b[39;49m\u001b[43m:\u001b[49m\u001b[43m \u001b[49m\u001b[32;43m3\u001b[39;49m\u001b[43m}\u001b[49m\u001b[43m)\u001b[49m)\n\u001b[32m     40\u001b[39m \u001b[38;5;28mprint\u001b[39m(\u001b[38;5;28;01mawait\u001b[39;00m multiply.ainvoke({\u001b[33m\"\u001b[39m\u001b[33ma\u001b[39m\u001b[33m\"\u001b[39m: \u001b[32m2\u001b[39m, \u001b[33m\"\u001b[39m\u001b[33mb\u001b[39m\u001b[33m\"\u001b[39m: \u001b[32m3\u001b[39m}))\n",
      "\u001b[36mFile \u001b[39m\u001b[32md:\\Code\\Python\\Generative AI\\myenv\\Lib\\site-packages\\langchain_core\\tools\\base.py:506\u001b[39m, in \u001b[36mBaseTool.invoke\u001b[39m\u001b[34m(self, input, config, **kwargs)\u001b[39m\n\u001b[32m    499\u001b[39m \u001b[38;5;28;01mdef\u001b[39;00m\u001b[38;5;250m \u001b[39m\u001b[34minvoke\u001b[39m(\n\u001b[32m    500\u001b[39m     \u001b[38;5;28mself\u001b[39m,\n\u001b[32m    501\u001b[39m     \u001b[38;5;28minput\u001b[39m: Union[\u001b[38;5;28mstr\u001b[39m, \u001b[38;5;28mdict\u001b[39m, ToolCall],\n\u001b[32m    502\u001b[39m     config: Optional[RunnableConfig] = \u001b[38;5;28;01mNone\u001b[39;00m,\n\u001b[32m    503\u001b[39m     **kwargs: Any,\n\u001b[32m    504\u001b[39m ) -> Any:\n\u001b[32m    505\u001b[39m     tool_input, kwargs = _prep_run_args(\u001b[38;5;28minput\u001b[39m, config, **kwargs)\n\u001b[32m--> \u001b[39m\u001b[32m506\u001b[39m     \u001b[38;5;28;01mreturn\u001b[39;00m \u001b[38;5;28;43mself\u001b[39;49m\u001b[43m.\u001b[49m\u001b[43mrun\u001b[49m\u001b[43m(\u001b[49m\u001b[43mtool_input\u001b[49m\u001b[43m,\u001b[49m\u001b[43m \u001b[49m\u001b[43m*\u001b[49m\u001b[43m*\u001b[49m\u001b[43mkwargs\u001b[49m\u001b[43m)\u001b[49m\n",
      "\u001b[36mFile \u001b[39m\u001b[32md:\\Code\\Python\\Generative AI\\myenv\\Lib\\site-packages\\langchain_core\\tools\\base.py:760\u001b[39m, in \u001b[36mBaseTool.run\u001b[39m\u001b[34m(self, tool_input, verbose, start_color, color, callbacks, tags, metadata, run_name, run_id, config, tool_call_id, **kwargs)\u001b[39m\n\u001b[32m    758\u001b[39m \u001b[38;5;28;01mif\u001b[39;00m error_to_raise:\n\u001b[32m    759\u001b[39m     run_manager.on_tool_error(error_to_raise)\n\u001b[32m--> \u001b[39m\u001b[32m760\u001b[39m     \u001b[38;5;28;01mraise\u001b[39;00m error_to_raise\n\u001b[32m    761\u001b[39m output = _format_output(content, artifact, tool_call_id, \u001b[38;5;28mself\u001b[39m.name, status)\n\u001b[32m    762\u001b[39m run_manager.on_tool_end(output, color=color, name=\u001b[38;5;28mself\u001b[39m.name, **kwargs)\n",
      "\u001b[36mFile \u001b[39m\u001b[32md:\\Code\\Python\\Generative AI\\myenv\\Lib\\site-packages\\langchain_core\\tools\\base.py:729\u001b[39m, in \u001b[36mBaseTool.run\u001b[39m\u001b[34m(self, tool_input, verbose, start_color, color, callbacks, tags, metadata, run_name, run_id, config, tool_call_id, **kwargs)\u001b[39m\n\u001b[32m    727\u001b[39m \u001b[38;5;28;01mif\u001b[39;00m config_param := _get_runnable_config_param(\u001b[38;5;28mself\u001b[39m._run):\n\u001b[32m    728\u001b[39m     tool_kwargs = tool_kwargs | {config_param: config}\n\u001b[32m--> \u001b[39m\u001b[32m729\u001b[39m response = \u001b[43mcontext\u001b[49m\u001b[43m.\u001b[49m\u001b[43mrun\u001b[49m\u001b[43m(\u001b[49m\u001b[38;5;28;43mself\u001b[39;49m\u001b[43m.\u001b[49m\u001b[43m_run\u001b[49m\u001b[43m,\u001b[49m\u001b[43m \u001b[49m\u001b[43m*\u001b[49m\u001b[43mtool_args\u001b[49m\u001b[43m,\u001b[49m\u001b[43m \u001b[49m\u001b[43m*\u001b[49m\u001b[43m*\u001b[49m\u001b[43mtool_kwargs\u001b[49m\u001b[43m)\u001b[49m\n\u001b[32m    730\u001b[39m \u001b[38;5;28;01mif\u001b[39;00m \u001b[38;5;28mself\u001b[39m.response_format == \u001b[33m\"\u001b[39m\u001b[33mcontent_and_artifact\u001b[39m\u001b[33m\"\u001b[39m:\n\u001b[32m    731\u001b[39m     \u001b[38;5;28;01mif\u001b[39;00m \u001b[38;5;129;01mnot\u001b[39;00m \u001b[38;5;28misinstance\u001b[39m(response, \u001b[38;5;28mtuple\u001b[39m) \u001b[38;5;129;01mor\u001b[39;00m \u001b[38;5;28mlen\u001b[39m(response) != \u001b[32m2\u001b[39m:\n",
      "\u001b[31mTypeError\u001b[39m: CustomCalculatorTool._run() missing 1 required positional argument: 'b'"
     ]
    }
   ],
   "source": [
    "from typing import Optional\n",
    "from langchain_core.callbacks import (\n",
    "    AsyncCallbackManagerForToolRun, CallbackManagerForToolRun)\n",
    "from langchain_core.tools import BaseTool\n",
    "from langchain_core.tools.base import ArgsSchema\n",
    "from pydantic import Field, BaseModel\n",
    "\n",
    "\n",
    "class CalculatorInput(BaseModel):\n",
    "    a: int = Field(description=\"first number\")\n",
    "    a: int = Field(description=\"second number\")\n",
    "\n",
    "# Note: It's important that every field has type hints. BaseTool is a Pydantic class and not having type hints can lead unexpected behavior.\n",
    "\n",
    "\n",
    "class CustomCalculatorTool(BaseTool):\n",
    "    name: str = \"calculator\"\n",
    "    description: str = \"useful for when you need to solve math problems.\"\n",
    "    args_schema: Optional[ArgsSchema] = CalculatorInput\n",
    "    return_direct: bool = True\n",
    "\n",
    "    def _run(self, a: int, b: int, run_manager: Optional[CallbackManagerForToolRun] = None) -> str:\n",
    "        \"\"\"Use the tool\"\"\"\n",
    "        return a * b\n",
    "\n",
    "    async def _arun(self, a: int, b: int, run_manager: Optional[AsyncCallbackManagerForToolRun] = None) -> str:\n",
    "        \"\"\"Use the tool asynchronously\"\"\"\n",
    "\n",
    "        return self._run(a, b, run_manager=run_manager.get_sync())\n",
    "\n",
    "\n",
    "multiply = CustomCalculatorTool()\n",
    "print(multiply.name)\n",
    "print(multiply.description)\n",
    "print(multiply.args)\n",
    "print(multiply.return_direct)\n",
    "\n",
    "print(multiply.invoke({\"a\": 2, \"b\": 3}))\n",
    "print(await multiply.ainvoke({\"a\": 2, \"b\": 3}))"
   ]
  },
  {
   "cell_type": "markdown",
   "id": "8b11cc42",
   "metadata": {},
   "source": [
    "### How to create async tools"
   ]
  },
  {
   "cell_type": "markdown",
   "id": "411d2294",
   "metadata": {},
   "source": [
    "### How to handling tool errors"
   ]
  },
  {
   "cell_type": "code",
   "execution_count": 1,
   "id": "bf8ddd1d",
   "metadata": {},
   "outputs": [
    {
     "data": {
      "text/plain": [
       "'Error: There is no city by the name of foo'"
      ]
     },
     "execution_count": 1,
     "metadata": {},
     "output_type": "execute_result"
    }
   ],
   "source": [
    "from langchain_core.tools import ToolException, StructuredTool\n",
    "\n",
    "\n",
    "def get_weather(city: str):\n",
    "    \"\"\"\n",
    "    Get the weather of give city name\n",
    "\n",
    "\n",
    "    Args:\n",
    "        city: city name\n",
    "    \"\"\"\n",
    "    raise ToolException(f\"Error: There is no city by the name of {city}\")\n",
    "\n",
    "\n",
    "get_weather_tool = StructuredTool.from_function(\n",
    "    func=get_weather,\n",
    "    handle_tool_error=True,\n",
    ")\n",
    "\n",
    "get_weather_tool.invoke({\"city\": \"foo\"})"
   ]
  },
  {
   "cell_type": "markdown",
   "id": "73510f28",
   "metadata": {},
   "source": [
    "* We can define string instead of `handle_tool_error = True`, `handle_tool_error=\"string\"`, In here when any exception occur return this string any error."
   ]
  },
  {
   "cell_type": "code",
   "execution_count": 17,
   "id": "5248b192",
   "metadata": {},
   "outputs": [
    {
     "data": {
      "text/plain": [
       "\"There is no such city, but it's probably above 0K there!\""
      ]
     },
     "execution_count": 17,
     "metadata": {},
     "output_type": "execute_result"
    }
   ],
   "source": [
    "get_weather_tool = StructuredTool.from_function(\n",
    "    func=get_weather,\n",
    "    handle_tool_error=\"There is no such city, but it's probably above 0K there!\"\n",
    ")\n",
    "\n",
    "get_weather_tool.invoke({\"city\": \"foo\"})"
   ]
  },
  {
   "cell_type": "markdown",
   "id": "c94a6105",
   "metadata": {},
   "source": [
    "- We can define **function** also."
   ]
  },
  {
   "cell_type": "code",
   "execution_count": null,
   "id": "73e3a4bb",
   "metadata": {},
   "outputs": [
    {
     "data": {
      "text/plain": [
       "'The following errors occurred during tool execution: `Error: There is no city by the name of foobar`'"
      ]
     },
     "execution_count": 16,
     "metadata": {},
     "output_type": "execute_result"
    }
   ],
   "source": [
    "def _handle_error(error: ToolException) -> str:\n",
    "    return f\"The following errors occurred during tool execution: `{error.args[0]}`\"\n",
    "\n",
    "\n",
    "get_weather_tool = StructuredTool.from_function(\n",
    "    func=get_weather,\n",
    "    handle_tool_error=_handle_error\n",
    ")\n",
    "\n",
    "\n",
    "get_weather_tool.invoke({\"city\": \"foobar\"})"
   ]
  },
  {
   "cell_type": "code",
   "execution_count": 10,
   "id": "000e67d1",
   "metadata": {},
   "outputs": [
    {
     "data": {
      "text/plain": [
       "\"Error: Unknown location 'unknown'.\""
      ]
     },
     "execution_count": 10,
     "metadata": {},
     "output_type": "execute_result"
    }
   ],
   "source": [
    "from langchain_core.tools import tool, ToolException, StructuredTool\n",
    "\n",
    "\n",
    "def get_weather(location: str) -> str:\n",
    "    \"\"\"Give the weather of given city name\"\"\"\n",
    "    if location.lower() == \"unknown\":\n",
    "        raise ToolException(f\"Error: Unknown location '{location}'.\")\n",
    "    return f\"The weather in {location} is sunny.\"\n",
    "\n",
    "\n",
    "get_weather_tool = StructuredTool.from_function(\n",
    "    func=get_weather,\n",
    "    handle_tool_error=True\n",
    ")\n",
    "\n",
    "get_weather_tool.invoke({\"location\": \"unknown\"})"
   ]
  }
 ],
 "metadata": {
  "kernelspec": {
   "display_name": "myenv",
   "language": "python",
   "name": "python3"
  },
  "language_info": {
   "codemirror_mode": {
    "name": "ipython",
    "version": 3
   },
   "file_extension": ".py",
   "mimetype": "text/x-python",
   "name": "python",
   "nbconvert_exporter": "python",
   "pygments_lexer": "ipython3",
   "version": "3.13.0"
  }
 },
 "nbformat": 4,
 "nbformat_minor": 5
}
