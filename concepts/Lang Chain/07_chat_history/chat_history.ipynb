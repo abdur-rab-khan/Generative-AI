{
 "cells": [
  {
   "cell_type": "markdown",
   "id": "b40d73f7",
   "metadata": {},
   "source": [
    "# 💬 How to manage chat history"
   ]
  },
  {
   "cell_type": "code",
   "execution_count": null,
   "id": "d49d2092",
   "metadata": {
    "vscode": {
     "languageId": "plaintext"
    }
   },
   "outputs": [],
   "source": []
  }
 ],
 "metadata": {
  "language_info": {
   "name": "python"
  }
 },
 "nbformat": 4,
 "nbformat_minor": 5
}
