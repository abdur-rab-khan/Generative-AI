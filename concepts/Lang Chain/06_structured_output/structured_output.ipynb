{
 "cells": [
  {
   "cell_type": "markdown",
   "id": "d7131c10",
   "metadata": {},
   "source": [
    "# Structured Output\n",
    "\n",
    "## There are many way to make structure output."
   ]
  },
  {
   "cell_type": "code",
   "execution_count": 1,
   "id": "0e8b534c",
   "metadata": {},
   "outputs": [],
   "source": [
    "from pydantic import BaseModel, Field\n",
    "\n",
    "\n",
    "class ResponseFormatter(BaseModel):\n",
    "    answer: str = Field(description=\"The answer to the user's question\")\n",
    "    followup_questions: str = Field(\n",
    "        description=\"A followup question the user could ask.\")"
   ]
  },
  {
   "cell_type": "markdown",
   "id": "7fcc577a",
   "metadata": {},
   "source": [
    "### Using tool calling"
   ]
  },
  {
   "cell_type": "code",
   "execution_count": 3,
   "id": "4ba6aec6",
   "metadata": {},
   "outputs": [],
   "source": [
    "from langchain_openai import ChatOpenAI\n",
    "\n",
    "model = ChatOpenAI(model=\"gpt-4o-mini\", temperature=0)\n",
    "\n",
    "# Bind ResponseFormatter schema as tool to the model\n",
    "model_with_tools = model.bind_tools([ResponseFormatter])\n",
    "\n",
    "ai_message = model_with_tools.invoke(\"what is the powerhouse of cell\")"
   ]
  },
  {
   "cell_type": "code",
   "execution_count": 7,
   "id": "9bf8036b",
   "metadata": {},
   "outputs": [
    {
     "name": "stdout",
     "output_type": "stream",
     "text": [
      "answer=\"The powerhouse of the cell is the mitochondrion. Mitochondria are organelles that generate most of the cell's supply of adenosine triphosphate (ATP), which is used as a source of chemical energy. They are also involved in other important processes such as the regulation of the cell cycle and cell growth.\" followup_questions='What are the functions of mitochondria?'\n"
     ]
    }
   ],
   "source": [
    "ai_message.tool_calls[0][\"args\"]\n",
    "\n",
    "# Parse the dictionary into a pydantic object\n",
    "pydantic_object = ResponseFormatter.model_validate(\n",
    "    ai_message.tool_calls[0][\"args\"])\n",
    "\n",
    "print(pydantic_object)"
   ]
  },
  {
   "cell_type": "markdown",
   "id": "bf751a22",
   "metadata": {},
   "source": [
    "### JSON mode"
   ]
  },
  {
   "cell_type": "code",
   "execution_count": null,
   "id": "d79bd8b7",
   "metadata": {},
   "outputs": [
    {
     "data": {
      "text/plain": [
       "{'random_ints': [34, 72, 18, 56, 89, 7, 43, 21, 66, 5]}"
      ]
     },
     "execution_count": 8,
     "metadata": {},
     "output_type": "execute_result"
    }
   ],
   "source": [
    "from langchain_openai import ChatOpenAI\n",
    "\n",
    "model = ChatOpenAI(\n",
    "    model=\"gpt-4o-mini\").with_structured_output(method=\"json_mode\")\n",
    "\n",
    "ai_msg = model.invoke(\n",
    "    \"Return a JSON object with key 'random_ints' and a value of 10 random ints in [0-99]\")\n",
    "\n",
    "ai_msg"
   ]
  },
  {
   "cell_type": "markdown",
   "id": "d10f7e1a",
   "metadata": {},
   "source": [
    "### Structured output method"
   ]
  },
  {
   "cell_type": "code",
   "execution_count": 9,
   "id": "ba98de4a",
   "metadata": {},
   "outputs": [
    {
     "data": {
      "text/plain": [
       "ResponseFormatter(answer=\"The powerhouse of the cell is the mitochondrion (plural: mitochondria). Mitochondria are organelles that generate most of the cell's supply of adenosine triphosphate (ATP), used as a source of chemical energy. They are often referred to as the powerhouse because they play a crucial role in energy production through the process of cellular respiration.\", followup_questions='What other functions do mitochondria have in the cell?')"
      ]
     },
     "execution_count": 9,
     "metadata": {},
     "output_type": "execute_result"
    }
   ],
   "source": [
    "from langchain_openai import ChatOpenAI\n",
    "\n",
    "model_with_structure = ChatOpenAI(\n",
    "    model=\"gpt-4o-mini\").with_structured_output(ResponseFormatter)\n",
    "\n",
    "# Invoke the model\n",
    "structured_output = model_with_structure.invoke(\n",
    "    \"What is the powerhouse of the cell?\")\n",
    "\n",
    "# Get back the pydantic object\n",
    "structured_output"
   ]
  }
 ],
 "metadata": {
  "kernelspec": {
   "display_name": "myenv",
   "language": "python",
   "name": "python3"
  },
  "language_info": {
   "codemirror_mode": {
    "name": "ipython",
    "version": 3
   },
   "file_extension": ".py",
   "mimetype": "text/x-python",
   "name": "python",
   "nbconvert_exporter": "python",
   "pygments_lexer": "ipython3",
   "version": "3.13.0"
  }
 },
 "nbformat": 4,
 "nbformat_minor": 5
}
