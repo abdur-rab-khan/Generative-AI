{
 "cells": [
  {
   "cell_type": "markdown",
   "id": "a61025c9",
   "metadata": {},
   "source": [
    "# How to use few shot prompting"
   ]
  },
  {
   "cell_type": "code",
   "execution_count": 10,
   "id": "f28dd85b",
   "metadata": {},
   "outputs": [],
   "source": [
    "from dotenv import load_dotenv\n",
    "from os import getenv\n",
    "\n",
    "load_dotenv()\n",
    "\n",
    "if getenv(\"OPENAI_API_KEY\") is None:\n",
    "    raise Exception(\"OPENAI api key is required\")"
   ]
  },
  {
   "cell_type": "markdown",
   "id": "ee27b7eb",
   "metadata": {},
   "source": [
    "### Example 1"
   ]
  },
  {
   "cell_type": "markdown",
   "id": "81e632fb",
   "metadata": {},
   "source": [
    "- For complex tool use it's is very useful to add [few-shot example](./few_shot_prompting.md/#few-shot-prompting) to the prompt. We can do this by adding `AIMessage` and `ToolCalls` and corresponding `ToolMessage` to our prompt"
   ]
  },
  {
   "cell_type": "code",
   "execution_count": 14,
   "id": "0372ffab",
   "metadata": {},
   "outputs": [],
   "source": [
    "from langchain_core.tools import tool\n",
    "\n",
    "\n",
    "@tool\n",
    "def add(a: int, b: int) -> int:\n",
    "    \"\"\"add two numbers\"\"\"\n",
    "\n",
    "    return a * b\n",
    "\n",
    "\n",
    "@tool\n",
    "def multiply(a: int, b: int) -> int:\n",
    "    \"\"\"Multiply two numbers\"\"\"\n",
    "\n",
    "    return a * b\n",
    "\n",
    "\n",
    "tools = [multiply, add]\n",
    "tools_by_name = {t.name: t for t in tools}"
   ]
  },
  {
   "cell_type": "code",
   "execution_count": 11,
   "id": "cf1be2ab",
   "metadata": {},
   "outputs": [],
   "source": [
    "from langchain_openai import ChatOpenAI\n",
    "\n",
    "llm = ChatOpenAI(model=\"gpt-4o-mini\", temperature=0)\n",
    "llm_with_tools = llm.bind_tools(tools)"
   ]
  },
  {
   "cell_type": "code",
   "execution_count": 12,
   "id": "8c158268",
   "metadata": {},
   "outputs": [
    {
     "data": {
      "text/plain": [
       "[{'name': 'multiply',\n",
       "  'args': {'a': 119, 'b': 8},\n",
       "  'id': 'call_4H6287LSjPOjdcUaoTHXdDAn',\n",
       "  'type': 'tool_call'},\n",
       " {'name': 'add',\n",
       "  'args': {'a': -20, 'b': 0},\n",
       "  'id': 'call_Q9cXj3y7DaAeL11Rrmb7JP46',\n",
       "  'type': 'tool_call'}]"
      ]
     },
     "execution_count": 12,
     "metadata": {},
     "output_type": "execute_result"
    }
   ],
   "source": [
    "query = \"Whats 119 times 8 minus 20. Don't do any math yourself, only use tools for math. Respect order of operations\"\n",
    "\n",
    "llm_with_tools.invoke(query).tool_calls"
   ]
  },
  {
   "cell_type": "code",
   "execution_count": null,
   "id": "ccc04754",
   "metadata": {},
   "outputs": [
    {
     "name": "stdout",
     "output_type": "stream",
     "text": [
      "content='' additional_kwargs={'tool_calls': [{'id': 'call_znWENPEntrC6M1J2jlZcR0Ug', 'function': {'arguments': '{\"a\": 119, \"b\": 8}', 'name': 'multiply'}, 'type': 'function'}, {'id': 'call_Ns8PNI7GB6S4OBAKN7Znt8Yp', 'function': {'arguments': '{\"a\": -20, \"b\": 0}', 'name': 'add'}, 'type': 'function'}], 'refusal': None} response_metadata={'token_usage': {'completion_tokens': 52, 'prompt_tokens': 221, 'total_tokens': 273, 'completion_tokens_details': {'accepted_prediction_tokens': 0, 'audio_tokens': 0, 'reasoning_tokens': 0, 'rejected_prediction_tokens': 0}, 'prompt_tokens_details': {'audio_tokens': 0, 'cached_tokens': 0}}, 'model_name': 'gpt-4o-mini-2024-07-18', 'system_fingerprint': 'fp_0392822090', 'finish_reason': 'tool_calls', 'logprobs': None} id='run-2f0d1113-fad0-4aba-b1e9-c0a3383005c3-0' tool_calls=[{'name': 'multiply', 'args': {'a': 119, 'b': 8}, 'id': 'call_znWENPEntrC6M1J2jlZcR0Ug', 'type': 'tool_call'}, {'name': 'add', 'args': {'a': -20, 'b': 0}, 'id': 'call_Ns8PNI7GB6S4OBAKN7Znt8Yp', 'type': 'tool_call'}] usage_metadata={'input_tokens': 221, 'output_tokens': 52, 'total_tokens': 273, 'input_token_details': {'audio': 0, 'cache_read': 0}, 'output_token_details': {'audio': 0, 'reasoning': 0}}\n"
     ]
    }
   ],
   "source": [
    "from langchain_core.messages import AIMessage, HumanMessage, ToolMessage, SystemMessage\n",
    "from langchain_core.prompts import ChatPromptTemplate\n",
    "from langchain_core.runnables import RunnablePassthrough\n",
    "\n",
    "example = [\n",
    "    HumanMessage(\n",
    "        \"What's the product of 317253 and 128472 plus four\", name=\"example_user\"\n",
    "    ),\n",
    "    AIMessage(\n",
    "        \"\",\n",
    "        name=\"example_assistant\",\n",
    "        tool_calls=[\n",
    "            {\"name\": \"Multiply\", \"args\": {\"x\": 317253, \"y\": 128472}, \"id\": \"1\"}\n",
    "        ],\n",
    "    ),\n",
    "    ToolMessage(\"16505054784\", tool_call_id=\"1\"),\n",
    "    AIMessage(\n",
    "        \"\",\n",
    "        name=\"example_assistant\",\n",
    "        tool_calls=[{\"name\": \"Add\", \"args\": {\n",
    "            \"x\": 16505054784, \"y\": 4}, \"id\": \"2\"}],\n",
    "    ),\n",
    "    ToolMessage(\"16505054788\", tool_call_id=\"2\"),\n",
    "    AIMessage(\n",
    "        \"The product of 317253 and 128472 plus four is 16505054788\",\n",
    "        name=\"example_assistant\",\n",
    "    ),\n",
    "]\n",
    "\n",
    "system = \"\"\"You are bad at math but are an expert at using a calculator. \n",
    "Use past tool usage as an example of how to correctly use the tools.\"\"\"\n",
    "\n",
    "few_shot_prompt = ChatPromptTemplate.from_messages([\n",
    "    SystemMessage(content=system),\n",
    "    *example,\n",
    "    (\"human\", \"{query}\")\n",
    "])\n",
    "\n",
    "chain = {\"query\": RunnablePassthrough()} | few_shot_prompt | llm_with_tools\n",
    "ai_msg = chain.invoke(\"what is 119 times 8 minus 20\")"
   ]
  },
  {
   "cell_type": "code",
   "execution_count": 27,
   "id": "7f49f958",
   "metadata": {},
   "outputs": [],
   "source": [
    "for t in ai_msg.tool_calls:\n",
    "    selected_tool = tools_by_name[t[\"name\"]]\n",
    "    tool_result = selected_tool.invoke(t)\n",
    "\n",
    "    few_shot_prompt.invoke(tool_result)"
   ]
  },
  {
   "cell_type": "code",
   "execution_count": 28,
   "id": "f558b551",
   "metadata": {},
   "outputs": [
    {
     "data": {
      "text/plain": [
       "AIMessage(content='To find the product of 317253 and 128472 plus four, I used the calculator tools as follows:\\n\\n1. **Multiplication**: I first multiplied 317253 by 128472 using the `Multiply` tool. The result was 16505054784.\\n   \\n2. **Addition**: Then, I added 4 to the result of the multiplication using the `Add` tool. The final result was 16505054788.\\n\\nSo, the complete calculation gives us that the product of 317253 and 128472 plus four is 16505054788.', additional_kwargs={'refusal': None}, response_metadata={'token_usage': {'completion_tokens': 121, 'prompt_tokens': 502, 'total_tokens': 623, 'completion_tokens_details': {'accepted_prediction_tokens': 0, 'audio_tokens': 0, 'reasoning_tokens': 0, 'rejected_prediction_tokens': 0}, 'prompt_tokens_details': {'audio_tokens': 0, 'cached_tokens': 0}}, 'model_name': 'gpt-4o-mini-2024-07-18', 'system_fingerprint': 'fp_0392822090', 'finish_reason': 'stop', 'logprobs': None}, id='run-cdca0988-aa87-46a4-b65a-456805802461-0', usage_metadata={'input_tokens': 502, 'output_tokens': 121, 'total_tokens': 623, 'input_token_details': {'audio': 0, 'cache_read': 0}, 'output_token_details': {'audio': 0, 'reasoning': 0}})"
      ]
     },
     "execution_count": 28,
     "metadata": {},
     "output_type": "execute_result"
    }
   ],
   "source": [
    "chain.invoke(few_shot_prompt)"
   ]
  }
 ],
 "metadata": {
  "kernelspec": {
   "display_name": "myenv",
   "language": "python",
   "name": "python3"
  },
  "language_info": {
   "codemirror_mode": {
    "name": "ipython",
    "version": 3
   },
   "file_extension": ".py",
   "mimetype": "text/x-python",
   "name": "python",
   "nbconvert_exporter": "python",
   "pygments_lexer": "ipython3",
   "version": "3.13.0"
  }
 },
 "nbformat": 4,
 "nbformat_minor": 5
}
