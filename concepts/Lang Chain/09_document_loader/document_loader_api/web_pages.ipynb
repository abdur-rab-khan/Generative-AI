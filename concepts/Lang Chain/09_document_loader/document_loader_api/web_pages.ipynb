{
 "cells": [
  {
   "cell_type": "markdown",
   "id": "ecc97dd6",
   "metadata": {},
   "source": [
    "- Table of content\n",
    "  - [How to load a web page](#how-to-load-a-web-pages)\n",
    "    - [Simple and fast](#simple-and-fast)\n",
    "    - [Advanced parsing](#advance-parsing)\n",
    "      - [Extracting content from specific sections](#extracting-content-from-specific-sections)\n",
    "    - [Vector Embedding](#vector-embeddings-over-page-content)"
   ]
  },
  {
   "cell_type": "markdown",
   "id": "a21217b2",
   "metadata": {},
   "source": [
    "# How to Load a web pages\n",
    "\n",
    "- In here we see how to loaded web pages into LangChain Documents.\n",
    "- The right parsing will depend on you need here we demonstrate two possibilities.\n",
    "    1. [**`Simple and fast`**](#simple-and-fast): Here we get one [**`Document`**](../document_loader.md) per page, it's content represented as flattened **`string`**.\n",
    "    2. [**`Advance Parsing`**](#advance-parsing): Here we can get multiple [**`Document`**](../document_loader.md) per page, allowing to get different sections such as **`links`**, **`table`** and other structure."
   ]
  },
  {
   "cell_type": "markdown",
   "id": "d086e36e",
   "metadata": {},
   "source": [
    "## Simple and fast \n",
    "\n",
    "- This method is appropriate, If you want to get simple string embedding in a web page.\n",
    "- It will return a single **`Document`** object -- one per page -- containing a single string of the page.\n",
    "- Under the hood is use **`Beautifulsoup4`**.\n",
    "- To load the document we can use **`lazy_load`** and for async we have **`alazy_load`**."
   ]
  },
  {
   "cell_type": "code",
   "execution_count": 15,
   "id": "e6c8109d",
   "metadata": {},
   "outputs": [
    {
     "name": "stderr",
     "output_type": "stream",
     "text": [
      "Fetching pages: 100%|##########| 1/1 [00:00<00:00, 23.76it/s]\n"
     ]
    }
   ],
   "source": [
    "from bs4 import SoupStrainer\n",
    "from langchain_community.document_loaders import WebBaseLoader\n",
    "\n",
    "page_url = \"https://python.langchain.com/docs/how_to/chatbots_memory/\"\n",
    "\n",
    "loader = WebBaseLoader(\n",
    "    web_path=page_url,\n",
    "    bs_kwargs={\n",
    "        \"parse_only\": SoupStrainer(class_=\"theme-doc-markdown markdown\"),\n",
    "    }\n",
    ")\n",
    "docs = []\n",
    "\n",
    "async for doc in loader.alazy_load():\n",
    "    docs.append(doc)\n",
    "\n",
    "assert len(docs) == 1\n",
    "doc = docs[0]"
   ]
  },
  {
   "cell_type": "code",
   "execution_count": 16,
   "id": "39256a22",
   "metadata": {},
   "outputs": [
    {
     "name": "stdout",
     "output_type": "stream",
     "text": [
      "MetaData {'source': 'https://python.langchain.com/docs/how_to/chatbots_memory/'}\n",
      "Page Content: How to add memory to chatbots\n",
      "A key feature of chatbots is their ability to use the content of previous conversational turns as context. This state management can take several forms, including:\n",
      "\n",
      "Simply stuffing previous messages into a chat model prompt.\n",
      "The above, but trimming old messages to reduce the amount of distracting information the model has to deal with.\n",
      "More complex modifications like synthesizing summaries for long running conversations.\n",
      "\n",
      "We'll go into more detail on a few techniques below!\n",
      "noteThis how-to guide previously built a chatbot using RunnableWithMessageHistory. You can access this version of the guide in the v0.2 docs.As of the v0.3 release of LangChain, we recommend that LangChain users take advantage of LangGraph persistence to incorporate memory into new LangChain applications.If your code is already relying on RunnableWithMessageHistory or BaseChatMessageHistory, you do not need to make any changes. We do not plan on deprecating this functionality in the near future as it works for simple chat applications and any code that uses RunnableWithMessageHistory will continue to work as expected.Please see How to migrate to LangGraph Memory for more details.\n",
      "Setup​\n",
      "You'll need to install a few packages, and have your OpenAI API key set as an environment variable named OPENAI_API_KEY:\n",
      "%pip install --upgrade --quiet langchain langchain-openai langgraphimport getpassimport osif not os.environ.get(\"OPENAI_API_KEY\"):    os.environ[\"OPENAI_API_KEY\"] = getpass.getpass(\"OpenAI API Key:\")\n",
      "OpenAI API Key: ········\n",
      "Let's also set up a chat model that we'll use for the below examples.\n",
      "from langchain_openai import ChatOpenAImodel = ChatOpenAI(model=\"gpt-4o-mini\")API Reference:ChatOpenAI\n",
      "Message passing​\n",
      "The simplest form of memory is simply passing chat history messages into a chain. Here's an example:\n",
      "from langchain_core.messages import AIMessage, HumanMessage, SystemMessagefrom langchain_core.prompts import ChatPromptTemplate, MessagesPlaceholderprompt = ChatPromptTemplate.from_messages(    [        SystemMessage(            content=\"You are a helpful assistant. Answer all questions to the best of your ability.\"        ),        MessagesPlaceholder(variable_name=\"messages\"),    ])chain = prompt | modelai_msg = chain.invoke(    {        \"messages\": [            HumanMessage(                content=\"Translate from English to French: I love programming.\"            ),            AIMessage(content=\"J'adore la programmation.\"),            HumanMessage(content=\"What did you just say?\"),        ],    })print(ai_msg.content)API Reference:AIMessage | HumanMessage | SystemMessage | ChatPromptTemplate | MessagesPlaceholder\n",
      "I said, \"I love programming\" in French: \"J'adore la programmation.\"\n",
      "We can see that by passing the previous conversation into a chain, it can use it as context to answer questions. This is the basic concept underpinning chatbot memory - the rest of the guide will demonstrate convenient techniques for passing or reformatting messages.\n",
      "Automatic history management​\n",
      "The previous examples pass messages to the chain (and model) explicitly. This is a completely acceptable approach, but it does require external management of new messages. LangChain also provides a way to build applications that have memory using LangGraph's persistence. You can enable persistence in LangGraph applications by providing a checkpointer when compiling the graph.\n",
      "from langgraph.checkpoint.memory import MemorySaverfrom langgraph.graph import START, MessagesState, StateGraphworkflow = StateGraph(state_schema=MessagesState)# Define the function that calls the modeldef call_model(state: MessagesState):    system_prompt = (        \"You are a helpful assistant. \"        \"Answer all questions to the best of your ability.\"    )    messages = [SystemMessage(content=system_prompt)] + state[\"messages\"]    response = model.invoke(messages)    return {\"messages\": response}# Define the node and edgeworkflow.add_node(\"model\", call_model)workflow.add_edge(START, \"model\")# Add simple in-memory checkpointermemory = MemorySaver()app = workflow.compile(checkpointer=memory)API Reference:MemorySaver | StateGraph\n",
      "We'll pass the latest input to the conversation here and let LangGraph keep track of the conversation history using the checkpointer:\n",
      "app.invoke(    {\"messages\": [HumanMessage(content=\"Translate to French: I love programming.\")]},    config={\"configurable\": {\"thread_id\": \"1\"}},)\n",
      "{'messages': [HumanMessage(content='Translate to French: I love programming.', additional_kwargs={}, response_metadata={}, id='be5e7099-3149-4293-af49-6b36c8ccd71b'),  AIMessage(content=\"J'aime programmer.\", additional_kwargs={'refusal': None}, response_metadata={'token_usage': {'completion_tokens': 4, 'prompt_tokens': 35, 'total_tokens': 39, 'completion_tokens_details': {'reasoning_tokens': 0}}, 'model_name': 'gpt-4o-mini-2024-07-18', 'system_fingerprint': 'fp_e9627b5346', 'finish_reason': 'stop', 'logprobs': None}, id='run-8a753d7a-b97b-4d01-a661-626be6f41b38-0', usage_metadata={'input_tokens': 35, 'output_tokens': 4, 'total_tokens': 39})]}\n",
      "app.invoke(    {\"messages\": [HumanMessage(content=\"What did I just ask you?\")]},    config={\"configurable\": {\"thread_id\": \"1\"}},)\n",
      "{'messages': [HumanMessage(content='Translate to French: I love programming.', additional_kwargs={}, response_metadata={}, id='be5e7099-3149-4293-af49-6b36c8ccd71b'),  AIMessage(content=\"J'aime programmer.\", additional_kwargs={'refusal': None}, response_metadata={'token_usage': {'completion_tokens': 4, 'prompt_tokens': 35, 'total_tokens': 39, 'completion_tokens_details': {'reasoning_tokens': 0}}, 'model_name': 'gpt-4o-mini-2024-07-18', 'system_fingerprint': 'fp_e9627b5346', 'finish_reason': 'stop', 'logprobs': None}, id='run-8a753d7a-b97b-4d01-a661-626be6f41b38-0', usage_metadata={'input_tokens': 35, 'output_tokens': 4, 'total_tokens': 39}),  HumanMessage(content='What did I just ask you?', additional_kwargs={}, response_metadata={}, id='c667529b-7c41-4cc0-9326-0af47328b816'),  AIMessage(content='You asked me to translate \"I love programming\" into French.', additional_kwargs={'refusal': None}, response_metadata={'token_usage': {'completion_tokens': 13, 'prompt_tokens': 54, 'total_tokens': 67, 'completion_tokens_details': {'reasoning_tokens': 0}}, 'model_name': 'gpt-4o-mini-2024-07-18', 'system_fingerprint': 'fp_1bb46167f9', 'finish_reason': 'stop', 'logprobs': None}, id='run-134a7ea0-d3a4-4923-bd58-25e5a43f6a1f-0', usage_metadata={'input_tokens': 54, 'output_tokens': 13, 'total_tokens': 67})]}\n",
      "Modifying chat history​\n",
      "Modifying stored chat messages can help your chatbot handle a variety of situations. Here are some examples:\n",
      "Trimming messages​\n",
      "LLMs and chat models have limited context windows, and even if you're not directly hitting limits, you may want to limit the amount of distraction the model has to deal with. One solution is trim the history messages before passing them to the model. Let's use an example history with the app we declared above:\n",
      "demo_ephemeral_chat_history = [    HumanMessage(content=\"Hey there! I'm Nemo.\"),    AIMessage(content=\"Hello!\"),    HumanMessage(content=\"How are you today?\"),    AIMessage(content=\"Fine thanks!\"),]app.invoke(    {        \"messages\": demo_ephemeral_chat_history        + [HumanMessage(content=\"What's my name?\")]    },    config={\"configurable\": {\"thread_id\": \"2\"}},)\n",
      "{'messages': [HumanMessage(content=\"Hey there! I'm Nemo.\", additional_kwargs={}, response_metadata={}, id='6b4cab70-ce18-49b0-bb06-267bde44e037'),  AIMessage(content='Hello!', additional_kwargs={}, response_metadata={}, id='ba3714f4-8876-440b-a651-efdcab2fcb4c'),  HumanMessage(content='How are you today?', additional_kwargs={}, response_metadata={}, id='08d032c0-1577-4862-a3f2-5c1b90687e21'),  AIMessage(content='Fine thanks!', additional_kwargs={}, response_metadata={}, id='21790e16-db05-4537-9a6b-ecad0fcec436'),  HumanMessage(content=\"What's my name?\", additional_kwargs={}, response_metadata={}, id='c933eca3-5fd8-4651-af16-20fe2d49c216'),  AIMessage(content='Your name is Nemo.', additional_kwargs={'refusal': None}, response_metadata={'token_usage': {'completion_tokens': 5, 'prompt_tokens': 63, 'total_tokens': 68, 'completion_tokens_details': {'reasoning_tokens': 0}}, 'model_name': 'gpt-4o-mini-2024-07-18', 'system_fingerprint': 'fp_1bb46167f9', 'finish_reason': 'stop', 'logprobs': None}, id='run-a0b21acc-9dbb-4fb6-a953-392020f37d88-0', usage_metadata={'input_tokens': 63, 'output_tokens': 5, 'total_tokens': 68})]}\n",
      "We can see the app remembers the preloaded name.\n",
      "But let's say we have a very small context window, and we want to trim the number of messages passed to the model to only the 2 most recent ones. We can use the built in trim_messages util to trim messages based on their token count before they reach our prompt. In this case we'll count each message as 1 \"token\" and keep only the last two messages:\n",
      "from langchain_core.messages import trim_messagesfrom langgraph.checkpoint.memory import MemorySaverfrom langgraph.graph import START, MessagesState, StateGraph# Define trimmer# count each message as 1 \"token\" (token_counter=len) and keep only the last two messagestrimmer = trim_messages(strategy=\"last\", max_tokens=2, token_counter=len)workflow = StateGraph(state_schema=MessagesState)# Define the function that calls the modeldef call_model(state: MessagesState):    trimmed_messages = trimmer.invoke(state[\"messages\"])    system_prompt = (        \"You are a helpful assistant. \"        \"Answer all questions to the best of your ability.\"    )    messages = [SystemMessage(content=system_prompt)] + trimmed_messages    response = model.invoke(messages)    return {\"messages\": response}# Define the node and edgeworkflow.add_node(\"model\", call_model)workflow.add_edge(START, \"model\")# Add simple in-memory checkpointermemory = MemorySaver()app = workflow.compile(checkpointer=memory)API Reference:trim_messages | MemorySaver | StateGraph\n",
      "Let's call this new app and check the response\n",
      "app.invoke(    {        \"messages\": demo_ephemeral_chat_history        + [HumanMessage(content=\"What is my name?\")]    },    config={\"configurable\": {\"thread_id\": \"3\"}},)\n",
      "{'messages': [HumanMessage(content=\"Hey there! I'm Nemo.\", additional_kwargs={}, response_metadata={}, id='6b4cab70-ce18-49b0-bb06-267bde44e037'),  AIMessage(content='Hello!', additional_kwargs={}, response_metadata={}, id='ba3714f4-8876-440b-a651-efdcab2fcb4c'),  HumanMessage(content='How are you today?', additional_kwargs={}, response_metadata={}, id='08d032c0-1577-4862-a3f2-5c1b90687e21'),  AIMessage(content='Fine thanks!', additional_kwargs={}, response_metadata={}, id='21790e16-db05-4537-9a6b-ecad0fcec436'),  HumanMessage(content='What is my name?', additional_kwargs={}, response_metadata={}, id='a22ab7c5-8617-4821-b3e9-a9e7dca1ff78'),  AIMessage(content=\"I'm sorry, but I don't have access to personal information about you unless you share it with me. How can I assist you today?\", additional_kwargs={'refusal': None}, response_metadata={'token_usage': {'completion_tokens': 27, 'prompt_tokens': 39, 'total_tokens': 66, 'completion_tokens_details': {'reasoning_tokens': 0}}, 'model_name': 'gpt-4o-mini-2024-07-18', 'system_fingerprint': 'fp_1bb46167f9', 'finish_reason': 'stop', 'logprobs': None}, id='run-f7b32d72-9f57-4705-be7e-43bf1c3d293b-0', usage_metadata={'input_tokens': 39, 'output_tokens': 27, 'total_tokens': 66})]}\n",
      "We can see that trim_messages was called and only the two most recent messages will be passed to the model. In this case, this means that the model forgot the name we gave it.\n",
      "Check out our how to guide on trimming messages for more.\n",
      "Summary memory​\n",
      "We can use this same pattern in other ways too. For example, we could use an additional LLM call to generate a summary of the conversation before calling our app. Let's recreate our chat history:\n",
      "demo_ephemeral_chat_history = [    HumanMessage(content=\"Hey there! I'm Nemo.\"),    AIMessage(content=\"Hello!\"),    HumanMessage(content=\"How are you today?\"),    AIMessage(content=\"Fine thanks!\"),]\n",
      "And now, let's update the model-calling function to distill previous interactions into a summary:\n",
      "from langchain_core.messages import HumanMessage, RemoveMessagefrom langgraph.checkpoint.memory import MemorySaverfrom langgraph.graph import START, MessagesState, StateGraphworkflow = StateGraph(state_schema=MessagesState)# Define the function that calls the modeldef call_model(state: MessagesState):    system_prompt = (        \"You are a helpful assistant. \"        \"Answer all questions to the best of your ability. \"        \"The provided chat history includes a summary of the earlier conversation.\"    )    system_message = SystemMessage(content=system_prompt)    message_history = state[\"messages\"][:-1]  # exclude the most recent user input    # Summarize the messages if the chat history reaches a certain size    if len(message_history) >= 4:        last_human_message = state[\"messages\"][-1]        # Invoke the model to generate conversation summary        summary_prompt = (            \"Distill the above chat messages into a single summary message. \"            \"Include as many specific details as you can.\"        )        summary_message = model.invoke(            message_history + [HumanMessage(content=summary_prompt)]        )        # Delete messages that we no longer want to show up        delete_messages = [RemoveMessage(id=m.id) for m in state[\"messages\"]]        # Re-add user message        human_message = HumanMessage(content=last_human_message.content)        # Call the model with summary & response        response = model.invoke([system_message, summary_message, human_message])        message_updates = [summary_message, human_message, response] + delete_messages    else:        message_updates = model.invoke([system_message] + state[\"messages\"])    return {\"messages\": message_updates}# Define the node and edgeworkflow.add_node(\"model\", call_model)workflow.add_edge(START, \"model\")# Add simple in-memory checkpointermemory = MemorySaver()app = workflow.compile(checkpointer=memory)API Reference:HumanMessage | RemoveMessage | MemorySaver | StateGraph\n",
      "Let's see if it remembers the name we gave it:\n",
      "app.invoke(    {        \"messages\": demo_ephemeral_chat_history        + [HumanMessage(\"What did I say my name was?\")]    },    config={\"configurable\": {\"thread_id\": \"4\"}},)\n",
      "{'messages': [AIMessage(content=\"Nemo greeted me, and I responded positively, indicating that I'm doing well.\", additional_kwargs={'refusal': None}, response_metadata={'token_usage': {'completion_tokens': 16, 'prompt_tokens': 60, 'total_tokens': 76, 'completion_tokens_details': {'reasoning_tokens': 0}}, 'model_name': 'gpt-4o-mini-2024-07-18', 'system_fingerprint': 'fp_1bb46167f9', 'finish_reason': 'stop', 'logprobs': None}, id='run-ee42f98d-907d-4bad-8f16-af2db789701d-0', usage_metadata={'input_tokens': 60, 'output_tokens': 16, 'total_tokens': 76}),  HumanMessage(content='What did I say my name was?', additional_kwargs={}, response_metadata={}, id='788555ea-5b1f-4c29-a2f2-a92f15d147be'),  AIMessage(content='You mentioned that your name is Nemo.', additional_kwargs={'refusal': None}, response_metadata={'token_usage': {'completion_tokens': 8, 'prompt_tokens': 67, 'total_tokens': 75, 'completion_tokens_details': {'reasoning_tokens': 0}}, 'model_name': 'gpt-4o-mini-2024-07-18', 'system_fingerprint': 'fp_1bb46167f9', 'finish_reason': 'stop', 'logprobs': None}, id='run-099a43bd-a284-4969-bb6f-0be486614cd8-0', usage_metadata={'input_tokens': 67, 'output_tokens': 8, 'total_tokens': 75})]}\n",
      "Note that invoking the app again will keep accumulating the history until it reaches the specified number of messages (four in our case). At that point we will generate another summary generated from the initial summary plus new messages and so on.\n"
     ]
    }
   ],
   "source": [
    "print(f\"MetaData {doc.metadata}\")\n",
    "print(f\"Page Content: {doc.page_content.strip()}\")"
   ]
  },
  {
   "cell_type": "markdown",
   "id": "593afa41",
   "metadata": {},
   "source": [
    "- It you want essential data from the web page. you can do by specifying classes and other parameters. "
   ]
  },
  {
   "cell_type": "markdown",
   "id": "adfc2d61",
   "metadata": {},
   "source": [
    "## Advance Parsing\n",
    "\n",
    "- If you want more control to process the page content this is appropriate for that.\n",
    "- In here instead of generating single document per page you can generate multiple **`document`** object representing distinct structure of web page."
   ]
  },
  {
   "cell_type": "code",
   "execution_count": 19,
   "id": "82685685",
   "metadata": {},
   "outputs": [],
   "source": [
    "from langchain_unstructured import UnstructuredLoader\n",
    "\n",
    "page_url = \"https://python.langchain.com/docs/how_to/chatbots_memory/\"\n",
    "loader = UnstructuredLoader(web_url=page_url)\n",
    "\n",
    "docs = []\n",
    "async for doc in loader.alazy_load():\n",
    "    docs.append(doc)"
   ]
  },
  {
   "cell_type": "code",
   "execution_count": 23,
   "id": "c39d3352",
   "metadata": {},
   "outputs": [
    {
     "name": "stdout",
     "output_type": "stream",
     "text": [
      "Open In Colab\n",
      "Open on GitHub\n",
      "How to add memory to chatbots\n",
      "A key feature of chatbots is their ability to use the content of previous conversational turns as context. This state management can take several forms, including:\n",
      "Simply stuffing previous messages into a chat model prompt.\n"
     ]
    }
   ],
   "source": [
    "for doc in docs[:5]:\n",
    "    print(doc.page_content)"
   ]
  },
  {
   "cell_type": "markdown",
   "id": "b05b5d92",
   "metadata": {},
   "source": [
    "### Extracting content from specific sections\n",
    "\n",
    "- Each `Document` object represent an element of the page. Its metadata contains useful information.\n",
    "- Also Each element can have parent-child relationship."
   ]
  },
  {
   "cell_type": "code",
   "execution_count": 26,
   "id": "cedf1ae6",
   "metadata": {},
   "outputs": [
    {
     "name": "stdout",
     "output_type": "stream",
     "text": [
      "Image: Open In Colab\n",
      "Image: Open on GitHub\n",
      "Title: How to add memory to chatbots\n",
      "NarrativeText: A key feature of chatbots is their ability to use the content of previous conversational turns as context. This state management can take several forms, including:\n",
      "ListItem: Simply stuffing previous messages into a chat model prompt.\n"
     ]
    }
   ],
   "source": [
    "for doc in docs[:5]:\n",
    "    print(f'{doc.metadata[\"category\"]}: {doc.page_content}')"
   ]
  },
  {
   "cell_type": "code",
   "execution_count": 27,
   "id": "71a8c070",
   "metadata": {},
   "outputs": [],
   "source": [
    "from typing import List\n",
    "from langchain_core.documents import Document\n",
    "\n",
    "\n",
    "async def _get_setup_docs_from_url(page_url: str) -> List[Document]:\n",
    "    loader = UnstructuredLoader(web_url=page_url)\n",
    "\n",
    "    setup_docs = []\n",
    "    parent_id = -1\n",
    "    async for doc in loader.alazy_load():\n",
    "        if doc.metadata[\"category\"] == \"Title\" and doc.page_content.startswith(\"Setup\"):\n",
    "            parent_id = doc.metadata[\"element_id\"]\n",
    "\n",
    "        if parent_id == doc.metadata.get(\"parent_id\"):\n",
    "            setup_docs.append(doc)\n",
    "\n",
    "    return setup_docs\n",
    "\n",
    "\n",
    "page_urls = [\n",
    "    \"https://python.langchain.com/docs/how_to/chatbots_memory/\",\n",
    "    \"https://python.langchain.com/docs/how_to/chatbots_tools/\",\n",
    "]\n",
    "setup_docs = []\n",
    "for url in page_urls:\n",
    "    page_setup_docs = await _get_setup_docs_from_url(url)\n",
    "    setup_docs.extend(page_setup_docs)"
   ]
  },
  {
   "cell_type": "code",
   "execution_count": 32,
   "id": "86d64e3f",
   "metadata": {},
   "outputs": [
    {
     "data": {
      "text/plain": [
       "{'https://python.langchain.com/docs/how_to/chatbots_memory/': 'You\\'ll need to install a few packages, and have your OpenAI API key set as an environment variable named OPENAI_API_KEY:\\n%pip install --upgrade --quiet langchain langchain-openai langgraph\\n\\nimport getpass\\nimport os\\n\\nif not os.environ.get(\"OPENAI_API_KEY\"):\\n    os.environ[\"OPENAI_API_KEY\"] = getpass.getpass(\"OpenAI API Key:\")\\nOpenAI API Key: ········\\nLet\\'s also set up a chat model that we\\'ll use for the below examples.\\nfrom langchain_openai import ChatOpenAI\\n\\nmodel = ChatOpenAI(model=\"gpt-4o-mini\")\\nAPI Reference:ChatOpenAI\\n',\n",
       " 'https://python.langchain.com/docs/how_to/chatbots_tools/': 'For this guide, we\\'ll be using a tool calling agent with a single tool for searching the web. The default will be powered by Tavily, but you can switch it out for any similar tool. The rest of this section will assume you\\'re using Tavily.\\nYou\\'ll need to sign up for an account on the Tavily website, and install the following packages:\\n%pip install --upgrade --quiet langchain-community langchain-openai tavily-python langgraph\\n\\nimport getpass\\nimport os\\n\\nif not os.environ.get(\"OPENAI_API_KEY\"):\\n    os.environ[\"OPENAI_API_KEY\"] = getpass.getpass(\"OpenAI API Key:\")\\n\\nif not os.environ.get(\"TAVILY_API_KEY\"):\\n    os.environ[\"TAVILY_API_KEY\"] = getpass.getpass(\"Tavily API Key:\")\\nOpenAI API Key: ········\\nTavily API Key: ········\\nYou will also need your OpenAI key set as OPENAI_API_KEY and your Tavily API key set as TAVILY_API_KEY.\\n'}"
      ]
     },
     "execution_count": 32,
     "metadata": {},
     "output_type": "execute_result"
    }
   ],
   "source": [
    "from collections import defaultdict\n",
    "\n",
    "setup_text = defaultdict(str)\n",
    "\n",
    "for doc in setup_docs:\n",
    "    url = doc.metadata[\"url\"]\n",
    "    setup_text[url] += f\"{doc.page_content}\\n\"\n",
    "\n",
    "dict(setup_text)"
   ]
  },
  {
   "cell_type": "markdown",
   "id": "4269a343",
   "metadata": {},
   "source": [
    "## Vector Embeddings over page content\n",
    "\n",
    "- Once we load the web content in LangChain **`Document`** object, We can index them (e.g for **`RAG`** application)."
   ]
  },
  {
   "cell_type": "code",
   "execution_count": 33,
   "id": "0b1c44a8",
   "metadata": {},
   "outputs": [
    {
     "name": "stderr",
     "output_type": "stream",
     "text": [
      "INFO: HTTP Request: POST https://api.openai.com/v1/embeddings \"HTTP/1.1 200 OK\"\n",
      "INFO: HTTP Request: POST https://api.openai.com/v1/embeddings \"HTTP/1.1 200 OK\"\n"
     ]
    }
   ],
   "source": [
    "from langchain_core.vectorstores import InMemoryVectorStore\n",
    "from langchain_openai import OpenAIEmbeddings\n",
    "\n",
    "vector_store = InMemoryVectorStore.from_documents(\n",
    "    setup_docs, OpenAIEmbeddings(model=\"text-embedding-3-small\"))\n",
    "retrieved_docs = vector_store.similarity_search(\"Install Tavily\", k=2)"
   ]
  },
  {
   "cell_type": "code",
   "execution_count": 36,
   "id": "91e239a0",
   "metadata": {},
   "outputs": [
    {
     "name": "stdout",
     "output_type": "stream",
     "text": [
      "Page https://python.langchain.com/docs/how_to/chatbots_tools/: You'll need to sign up for an account on the Tavily website, and install the following packages:\n",
      "\n",
      "Page https://python.langchain.com/docs/how_to/chatbots_tools/: For this guide, we'll be using a tool calling agent with a single tool for searching the web. The default will be powered by Tavily, but you can switch it out for any similar tool. The rest of this section will assume you're using Tavily.\n",
      "\n"
     ]
    }
   ],
   "source": [
    "for doc in retrieved_docs:\n",
    "    print(f'Page {doc.metadata[\"url\"]}: {doc.page_content}\\n')"
   ]
  }
 ],
 "metadata": {
  "kernelspec": {
   "display_name": "myenv",
   "language": "python",
   "name": "python3"
  },
  "language_info": {
   "codemirror_mode": {
    "name": "ipython",
    "version": 3
   },
   "file_extension": ".py",
   "mimetype": "text/x-python",
   "name": "python",
   "nbconvert_exporter": "python",
   "pygments_lexer": "ipython3",
   "version": "3.13.0"
  }
 },
 "nbformat": 4,
 "nbformat_minor": 5
}
