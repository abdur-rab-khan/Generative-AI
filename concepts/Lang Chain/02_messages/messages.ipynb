{
 "cells": [
  {
   "cell_type": "markdown",
   "id": "fb06eaef",
   "metadata": {},
   "source": [
    "* See the concept of [messages](./messages.md) for more details."
   ]
  }
 ],
 "metadata": {
  "language_info": {
   "name": "python"
  }
 },
 "nbformat": 4,
 "nbformat_minor": 5
}
