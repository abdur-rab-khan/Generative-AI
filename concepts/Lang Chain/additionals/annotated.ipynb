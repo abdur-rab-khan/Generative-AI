{
 "cells": [
  {
   "cell_type": "markdown",
   "id": "d3fbb5ed",
   "metadata": {},
   "source": [
    "# Annotated in Python\n",
    "> Annotated in Python is a special typing tool that allows us to add extra information(metadata) to a variable, function parameter, or return type\n",
    "\n",
    "* **Note**\n",
    "    * These metadata does not affect on how our code runs. It is only used by tools, libraries or frameworks(for Example, LangChain, FastAPI, Pydantic) to understand code better.\n",
    "    * Why use `Annotated`\n",
    "        1. To **attach validation rules**.\n",
    "        2. To **add documentation**.\n",
    "        3. To **guide external tools**.\n",
    "        4. To **improve static analysis**.\n",
    "* **Basic Syntax**\n",
    "```python\n",
    "from typing import Annotated\n",
    "\n",
    "Annotated[type, metadata1, metadata2,...]\n",
    "```\n",
    "* type: The original type (like `int`, `str`, `list`).\n",
    "* metadata: Any extra information(can be any object, string, classes, numbers, etc)"
   ]
  },
  {
   "cell_type": "code",
   "execution_count": null,
   "id": "3fc65728",
   "metadata": {},
   "outputs": [
    {
     "name": "stdout",
     "output_type": "stream",
     "text": [
      "Processing number: 5\n"
     ]
    }
   ],
   "source": [
    "from typing import Annotated\n",
    "\n",
    "positive_int = Annotated[int, \"Must be positive\"]\n",
    "\n",
    "\n",
    "def process_number(num: positive_int) -> None:\n",
    "    print(f\"Processing number: {num}\")\n",
    "\n",
    "\n",
    "process_number(5)"
   ]
  },
  {
   "cell_type": "markdown",
   "id": "f365f9a2",
   "metadata": {},
   "source": [
    "* `num` is an int, but we are adding extra info `\"must be positive\"`.\n",
    "* Python itself does not enforce(validate) the positivity --- but other tools(like Pydantic) can read this annoation and apply the rule."
   ]
  },
  {
   "cell_type": "markdown",
   "id": "fdde8c9e",
   "metadata": {},
   "source": [
    "* **More Practical Example (with classes)**\n",
    "    * Here you even attach custom classes as metadata:"
   ]
  },
  {
   "cell_type": "code",
   "execution_count": 41,
   "id": "4c57a422",
   "metadata": {},
   "outputs": [
    {
     "name": "stdout",
     "output_type": "stream",
     "text": [
      "Hello, alice\n"
     ]
    }
   ],
   "source": [
    "from typing import Annotated\n",
    "\n",
    "from annotated_types import MaxLen\n",
    "\n",
    "\n",
    "class MinLength:\n",
    "    def __init__(self, length: int):\n",
    "        self.length = length\n",
    "\n",
    "    def describe(self):\n",
    "        if self.length < 3:\n",
    "            return f\"Not Allowed {self.length}\"\n",
    "        else:\n",
    "            return f\"Allowed {self.length}\"\n",
    "\n",
    "\n",
    "class MaxLength:\n",
    "    def __init__(self, length: int):\n",
    "        self.length = length\n",
    "\n",
    "    def describe(self):\n",
    "        if self.length > 50:\n",
    "            return f\"Not Allowed {self.length}\"\n",
    "        else:\n",
    "            return f\"Allowed {self.length}\"\n",
    "\n",
    "\n",
    "Name = Annotated[str, MinLength(3), MaxLen(50)]\n",
    "\n",
    "\n",
    "def greet(name: Name) -> None:\n",
    "    print(f\"Hello, {name}\")\n",
    "\n",
    "\n",
    "greet(\"alice\")\n",
    "\n",
    "# Here also function itself does not check this -- but external tools (like validation libraries) can use this information to enforce it."
   ]
  },
  {
   "cell_type": "markdown",
   "id": "e89a030f",
   "metadata": {},
   "source": [
    "## How to Access `Annotated` Metadata\n",
    "* If you want to read the metadata manually, you can use the `get_type_hints()` function"
   ]
  },
  {
   "cell_type": "code",
   "execution_count": 17,
   "id": "c6ab1eb6",
   "metadata": {},
   "outputs": [
    {
     "data": {
      "text/plain": [
       "{'name': typing.Annotated[str, <__main__.MinLength object at 0x000002164CF05FD0>, MaxLen(max_length=50)],\n",
       " 'return': NoneType}"
      ]
     },
     "execution_count": 17,
     "metadata": {},
     "output_type": "execute_result"
    }
   ],
   "source": [
    "from typing import get_type_hints\n",
    "\n",
    "hints = get_type_hints(greet, include_extras=True)\n",
    "\n",
    "hints"
   ]
  },
  {
   "cell_type": "markdown",
   "id": "779dbdd2",
   "metadata": {},
   "source": [
    "1. Use `typing.get_type_hints()` to retrieve the type hints.\n",
    "2. Use `typing.get_origin()` and `typing.get_args()` to **break** down the `Annotated` structure."
   ]
  },
  {
   "cell_type": "code",
   "execution_count": 19,
   "id": "4222cc43",
   "metadata": {},
   "outputs": [
    {
     "data": {
      "text/plain": [
       "{'name': typing.Annotated[str, <__main__.MinLength object at 0x000002164CF05FD0>, MaxLen(max_length=50)],\n",
       " 'return': NoneType}"
      ]
     },
     "execution_count": 19,
     "metadata": {},
     "output_type": "execute_result"
    }
   ],
   "source": [
    "from typing import get_type_hints\n",
    "\n",
    "# include_extras = True to keep the metadata\n",
    "hints = get_type_hints(greet, include_extras=True)\n",
    "hints"
   ]
  },
  {
   "cell_type": "code",
   "execution_count": 33,
   "id": "6814e93d",
   "metadata": {},
   "outputs": [
    {
     "name": "stdout",
     "output_type": "stream",
     "text": [
      "origin: typing.Annotated\n",
      "Base type: <class 'str'>\n",
      "Metadata: (<__main__.MinLength object at 0x000002164CF05FD0>, MaxLen(max_length=50))\n"
     ]
    }
   ],
   "source": [
    "from typing import Annotated, get_type_hints, get_origin, get_args\n",
    "\n",
    "# Get the type hints\n",
    "hints = get_type_hints(greet, include_extras=True)\n",
    "\n",
    "# Access the annotation for 'name'\n",
    "name_annotation = hints['name']\n",
    "\n",
    "# Break down the annotation\n",
    "origin = get_origin(name_annotation)\n",
    "args = get_args(name_annotation)\n",
    "\n",
    "print(f\"origin: {origin}\")\n",
    "print(f\"Base type: {args[0]}\")\n",
    "print(f\"Metadata: {args[1:]}\")"
   ]
  },
  {
   "cell_type": "markdown",
   "id": "52ee59e4",
   "metadata": {},
   "source": [
    "## Let's Validate it."
   ]
  },
  {
   "cell_type": "code",
   "execution_count": 43,
   "id": "2a7b5154",
   "metadata": {},
   "outputs": [
    {
     "name": "stdout",
     "output_type": "stream",
     "text": [
      "dict_items([('name', typing.Annotated[str, <__main__.MinLength object at 0x000002164DAF8830>, MaxLen(max_length=50)]), ('return', <class 'NoneType'>)])\n",
      "Allowed 3\n"
     ]
    }
   ],
   "source": [
    "from typing import get_type_hints, get_origin, get_args\n",
    "\n",
    "hints = get_type_hints(greet, include_extras=True)\n",
    "name_annotation = hints['name']\n",
    "\n",
    "origin = get_origin(name_annotation)\n",
    "args = get_args(name_annotation)\n",
    "\n",
    "metadata = args[1:]\n",
    "\n",
    "for meta in metadata:\n",
    "    if isinstance(meta, MaxLength) or isinstance(meta, MinLength):\n",
    "        print(meta.describe())"
   ]
  },
  {
   "cell_type": "markdown",
   "id": "d14a0b21",
   "metadata": {},
   "source": [
    "## ⚠️ Building Small Validator."
   ]
  },
  {
   "cell_type": "code",
   "execution_count": 44,
   "id": "e17473c7",
   "metadata": {},
   "outputs": [
    {
     "name": "stdout",
     "output_type": "stream",
     "text": [
      "Validation failed: x must be >= 10, got 5\n",
      "Processing number: 15\n"
     ]
    }
   ],
   "source": [
    "from typing import Annotated, get_type_hints, get_origin, get_args\n",
    "\n",
    "# Step 1: Define metadata classes\n",
    "\n",
    "\n",
    "class MinValue:\n",
    "    def __init__(self, value: int):\n",
    "        self.value = value\n",
    "\n",
    "    def describe(self):\n",
    "        return f\"Minimum allowed value is {self.value}\"\n",
    "\n",
    "\n",
    "# Step 2: Define an annotated type\n",
    "PositiveInt = Annotated[int, MinValue(10)]\n",
    "\n",
    "# Step 3: Define a function using the annotated type\n",
    "\n",
    "\n",
    "def process_number(x: PositiveInt) -> None:\n",
    "    print(f\"Processing number: {x}\")\n",
    "\n",
    "# Step 4: Create the validator function\n",
    "\n",
    "\n",
    "def validate_function_input(func, *args, **kwargs):\n",
    "    hints = get_type_hints(func, include_extras=True)\n",
    "\n",
    "    for param_name, param_type in hints.items():\n",
    "        value = kwargs.get(param_name)\n",
    "        if value is None:\n",
    "            continue  # Skip if not passed\n",
    "\n",
    "        # Check if it is an Annotated type\n",
    "        if get_origin(param_type) is Annotated:\n",
    "            base_type, *metadatas = get_args(param_type)\n",
    "\n",
    "            # Check all metadata\n",
    "            for metadata in metadatas:\n",
    "                if isinstance(metadata, MinValue):\n",
    "                    if value < metadata.value:\n",
    "                        raise ValueError(\n",
    "                            f\"Validation failed: {param_name} must be >= {metadata.value}, got {value}\"\n",
    "                        )\n",
    "\n",
    "    # If all validations pass\n",
    "    return func(*args, **kwargs)\n",
    "\n",
    "\n",
    "# Step 5: Test the validation\n",
    "try:\n",
    "    validate_function_input(process_number, x=5)  # Should raise an error\n",
    "except ValueError as e:\n",
    "    print(e)\n",
    "\n",
    "try:\n",
    "    validate_function_input(process_number, x=15)  # Should succeed\n",
    "except ValueError as e:\n",
    "    print(e)"
   ]
  }
 ],
 "metadata": {
  "kernelspec": {
   "display_name": "myenv",
   "language": "python",
   "name": "python3"
  },
  "language_info": {
   "codemirror_mode": {
    "name": "ipython",
    "version": 3
   },
   "file_extension": ".py",
   "mimetype": "text/x-python",
   "name": "python",
   "nbconvert_exporter": "python",
   "pygments_lexer": "ipython3",
   "version": "3.13.0"
  }
 },
 "nbformat": 4,
 "nbformat_minor": 5
}
