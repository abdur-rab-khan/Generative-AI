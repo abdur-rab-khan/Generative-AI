{
 "cells": [
  {
   "cell_type": "markdown",
   "id": "3ad3ac56",
   "metadata": {},
   "source": [
    "# LangChain Expression Language (LCEL)"
   ]
  },
  {
   "cell_type": "markdown",
   "id": "6ef3dcf1",
   "metadata": {},
   "source": [
    "## RunnableSequence"
   ]
  },
  {
   "cell_type": "code",
   "execution_count": 16,
   "id": "9953fe80",
   "metadata": {},
   "outputs": [
    {
     "data": {
      "text/plain": [
       "40"
      ]
     },
     "execution_count": 16,
     "metadata": {},
     "output_type": "execute_result"
    }
   ],
   "source": [
    "from langchain_core.runnables import RunnableSequence, RunnableLambda\n",
    "\n",
    "\n",
    "addition = RunnableLambda(lambda x: x + 10)\n",
    "multiplication = RunnableLambda(lambda x: x * 2)\n",
    "\n",
    "chain = RunnableSequence(addition, multiplication)\n",
    "\n",
    "chain.invoke(10)"
   ]
  },
  {
   "cell_type": "markdown",
   "id": "ead82e0b",
   "metadata": {},
   "source": [
    "## RunnableParallel"
   ]
  },
  {
   "cell_type": "code",
   "execution_count": null,
   "id": "c9ceacfe",
   "metadata": {},
   "outputs": [],
   "source": [
    "from langchain_core.runnables import RunnableParallel, RunnableLambda\n",
    "\n",
    "\n",
    "addition = RunnableLambda(lambda x: x + 10)\n",
    "multiplication = RunnableLambda(lambda x: x * 2)\n",
    "\n",
    "chain = RunnableParallel({\n",
    "    \"add\": addition,\n",
    "    \"m\"\n",
    "})\n",
    "\n",
    "chain.invoke(10)"
   ]
  }
 ],
 "metadata": {
  "kernelspec": {
   "display_name": "myenv",
   "language": "python",
   "name": "python3"
  },
  "language_info": {
   "codemirror_mode": {
    "name": "ipython",
    "version": 3
   },
   "file_extension": ".py",
   "mimetype": "text/x-python",
   "name": "python",
   "nbconvert_exporter": "python",
   "pygments_lexer": "ipython3",
   "version": "3.13.0"
  }
 },
 "nbformat": 4,
 "nbformat_minor": 5
}
