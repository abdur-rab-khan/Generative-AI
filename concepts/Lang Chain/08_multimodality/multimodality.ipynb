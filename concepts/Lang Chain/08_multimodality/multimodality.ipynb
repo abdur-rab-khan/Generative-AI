{
 "cells": [
  {
   "cell_type": "markdown",
   "id": "71ba2d75",
   "metadata": {},
   "source": [
    "# MultiModality"
   ]
  },
  {
   "cell_type": "markdown",
   "id": "d9d0be46",
   "metadata": {},
   "source": [
    "- Table of contents\n",
    "    - [Image](#image)\n",
    "      1. [From Data](#1-from-data)\n",
    "      2. [From URL](#2-from-url)\n",
    "\n",
    "    - [Document (PDF's)](#documents-pdfs)\n",
    "      1. [From Data](#from-data)\n",
    "      2. [From URI](#from-uri)\n",
    "\n",
    "  - [Using Multi-model prompts](#using-multi-model-prompts)"
   ]
  },
  {
   "cell_type": "code",
   "execution_count": 6,
   "id": "2d91751a",
   "metadata": {},
   "outputs": [],
   "source": [
    "from langchain_openai import ChatOpenAI\n",
    "\n",
    "llm = ChatOpenAI(model=\"gpt-4o-mini\")"
   ]
  },
  {
   "cell_type": "markdown",
   "id": "1399df82",
   "metadata": {},
   "source": [
    "## Image\n",
    "#### 1. From Data"
   ]
  },
  {
   "cell_type": "code",
   "execution_count": null,
   "id": "79a92c60",
   "metadata": {},
   "outputs": [
    {
     "name": "stdout",
     "output_type": "stream",
     "text": [
      "The image shows a beautiful clear day with bright blue skies and wispy cirrus clouds stretching across the horizon. The clouds are thin and streaky, creating elegant patterns against the blue backdrop. The lighting suggests it's during the day, possibly late afternoon given the warm, golden quality of the light on the grass. The weather appears calm with no signs of wind (the grass looks relatively still) and no indication of rain. It's the kind of perfect, mild weather that's ideal for walking along the wooden boardwalk through the marsh grass.\n"
     ]
    }
   ],
   "source": [
    "import base64\n",
    "import httpx\n",
    "from langchain_core.messages import HumanMessage\n",
    "from langchain.chat_models import init_chat_model\n",
    "\n",
    "model = init_chat_model(\"anthropic:claude-3-5-sonnet-latest\")\n",
    "\n",
    "# Fetch image data\n",
    "image_url = \"https://upload.wikimedia.org/wikipedia/commons/thumb/d/dd/Gfp-wisconsin-madison-the-nature-boardwalk.jpg/2560px-Gfp-wisconsin-madison-the-nature-boardwalk.jpg\"\n",
    "image_data = base64.b64encode(httpx.get(image_url).content).decode(\"utf-8\")\n",
    "\n",
    "\n",
    "message = HumanMessage(\n",
    "    content=[\n",
    "        {\n",
    "            \"type\": \"text\",\n",
    "            \"text\": \"Describe the weather in this image:\"\n",
    "        },\n",
    "        {\n",
    "            \"type\": \"image\",\n",
    "            \"source_type\": \"base64\",\n",
    "            \"data\": image_data,\n",
    "            \"mini_type\": \"image/jpeg\"\n",
    "        }\n",
    "    ]\n",
    ")\n",
    "\n",
    "response = llm.invoke([message])\n",
    "print(response.text())"
   ]
  },
  {
   "cell_type": "markdown",
   "id": "9b5548fa",
   "metadata": {},
   "source": [
    "#### 2. From URL"
   ]
  },
  {
   "cell_type": "code",
   "execution_count": null,
   "id": "aa1619c7",
   "metadata": {},
   "outputs": [],
   "source": [
    "message = HumanMessage(\n",
    "    content=[\n",
    "        {\n",
    "            \"type\": \"text\",\n",
    "            \"text\": \"Describe the weather in this image:\"\n",
    "        },\n",
    "        {\n",
    "            \"type\": \"image\",\n",
    "            \"source_type\": \"url\",\n",
    "            \"data\": image_url,\n",
    "            \"mini_type\": \"image/jpeg\"\n",
    "        }\n",
    "    ]\n",
    ")"
   ]
  },
  {
   "cell_type": "markdown",
   "id": "5fab9e0d",
   "metadata": {},
   "source": [
    "#### Using Multiple Images"
   ]
  },
  {
   "cell_type": "code",
   "execution_count": null,
   "id": "7473ee90",
   "metadata": {},
   "outputs": [],
   "source": [
    "message = {\n",
    "    \"role\": \"user\",\n",
    "    \"content\": [\n",
    "        {\"type\": \"text\", \"text\": \"Are these two images the same?\"},\n",
    "        {\"type\": \"image\", \"source_type\": \"url\", \"url\": image_url},\n",
    "        {\"type\": \"image\", \"source_type\": \"url\", \"url\": image_url},\n",
    "    ],\n",
    "}\n",
    "response = llm.invoke([message])\n",
    "print(response.text())"
   ]
  },
  {
   "cell_type": "markdown",
   "id": "8056bc05",
   "metadata": {},
   "source": [
    "## Documents (PDF's)\n",
    "\n",
    "- Some provides such as OpenAI, Anthropic and Google Gemini will accept PDF documents."
   ]
  },
  {
   "cell_type": "markdown",
   "id": "e2663af8",
   "metadata": {},
   "source": [
    "#### From Data"
   ]
  },
  {
   "cell_type": "code",
   "execution_count": null,
   "id": "4e62831d",
   "metadata": {},
   "outputs": [],
   "source": [
    "import base64\n",
    "\n",
    "import httpx\n",
    "from langchain.chat_models import init_chat_model\n",
    "\n",
    "# Fetch PDF data\n",
    "pdf_url = \"https://pdfobject.com/pdf/sample.pdf\"\n",
    "pdf_data = base64.b64encode(httpx.get(pdf_url).content).decode(\"utf-8\")\n",
    "\n",
    "\n",
    "# Pass to LLM\n",
    "llm = init_chat_model(\"anthropic:claude-3-5-sonnet-latest\")\n",
    "\n",
    "message = {\n",
    "    \"role\": \"user\",\n",
    "    \"content\": [\n",
    "        {\n",
    "            \"type\": \"text\",\n",
    "            \"text\": \"Describe the document:\",\n",
    "        },\n",
    "        {\n",
    "            \"type\": \"file\",\n",
    "            \"source_type\": \"base64\",\n",
    "            \"data\": pdf_data,\n",
    "            \"mime_type\": \"application/pdf\",\n",
    "        },\n",
    "    ],\n",
    "}\n",
    "response = llm.invoke([message])\n",
    "print(response.text())"
   ]
  },
  {
   "cell_type": "markdown",
   "id": "17d92c0a",
   "metadata": {},
   "source": [
    "#### From URI"
   ]
  },
  {
   "cell_type": "code",
   "execution_count": null,
   "id": "5e9e4a4e",
   "metadata": {},
   "outputs": [],
   "source": [
    "message = {\n",
    "    \"role\": \"user\",\n",
    "    \"content\": [\n",
    "        {\n",
    "            \"type\": \"text\",\n",
    "            \"text\": \"Describe the document:\",\n",
    "        },\n",
    "        {\n",
    "            \"type\": \"file\",\n",
    "            \"source_type\": \"url\",\n",
    "            \"url\": pdf_url,\n",
    "        },\n",
    "    ],\n",
    "}\n",
    "response = llm.invoke([message])\n",
    "print(response.text())"
   ]
  },
  {
   "cell_type": "markdown",
   "id": "e1ee95c8",
   "metadata": {},
   "source": [
    "## Using Multi-model prompts\n",
    "\n",
    "- Demonstrate how to use **`PromptTemplate`** to format multi-model input data."
   ]
  },
  {
   "cell_type": "markdown",
   "id": "842d0650",
   "metadata": {},
   "source": [
    "- Prompt that takes a URL"
   ]
  },
  {
   "cell_type": "code",
   "execution_count": null,
   "id": "7752792b",
   "metadata": {},
   "outputs": [],
   "source": [
    "from langchain_core.prompts import ChatPromptTemplate\n",
    "from langchain_core.messages import SystemMessage, HumanMessage\n",
    "\n",
    "# Define a prompt\n",
    "prompt = ChatPromptTemplate(\n",
    "    [\n",
    "        SystemMessage(\n",
    "            content=\"Describe the image provided.\"\n",
    "        ),\n",
    "        HumanMessage(\n",
    "            content=[\n",
    "                {\n",
    "                    \"type\": \"image\",\n",
    "                    \"source_type\": \"url\",\n",
    "                    \"url\": \"{image_url}\"\n",
    "                }\n",
    "            ]\n",
    "        )\n",
    "    ]\n",
    ")"
   ]
  },
  {
   "cell_type": "markdown",
   "id": "0f3939f8",
   "metadata": {},
   "source": [
    "- Pass the image URI into the prompt"
   ]
  },
  {
   "cell_type": "code",
   "execution_count": null,
   "id": "b9f52add",
   "metadata": {},
   "outputs": [],
   "source": [
    "from langchain.chat_models import init_chat_model\n",
    "\n",
    "llm = init_chat_model(\"anthropic:claude-3-5-sonnet-latest\")\n",
    "\n",
    "url = \"https://upload.wikimedia.org/wikipedia/commons/thumb/d/dd/Gfp-wisconsin-madison-the-nature-boardwalk.jpg/2560px-Gfp-wisconsin-madison-the-nature-boardwalk.jpg\"\n",
    "\n",
    "chain = prompt | llm\n",
    "response = chain.invoke({\"image_url\": url})\n",
    "print(response.text())"
   ]
  }
 ],
 "metadata": {
  "kernelspec": {
   "display_name": "myenv",
   "language": "python",
   "name": "python3"
  },
  "language_info": {
   "codemirror_mode": {
    "name": "ipython",
    "version": 3
   },
   "file_extension": ".py",
   "mimetype": "text/x-python",
   "name": "python",
   "nbconvert_exporter": "python",
   "pygments_lexer": "ipython3",
   "version": "3.13.0"
  }
 },
 "nbformat": 4,
 "nbformat_minor": 5
}
