{
 "cells": [
  {
   "cell_type": "markdown",
   "id": "d41328d9",
   "metadata": {},
   "source": [
    "# 🤖 AI POWERED QUIZ APP"
   ]
  },
  {
   "cell_type": "markdown",
   "id": "fa028abd",
   "metadata": {},
   "source": [
    "### Initialize model"
   ]
  },
  {
   "cell_type": "code",
   "execution_count": 2,
   "id": "728b83a4",
   "metadata": {},
   "outputs": [],
   "source": [
    "from langchain_openai import ChatOpenAI\n",
    "\n",
    "llm = ChatOpenAI(model=\"gpt-4.1-nano\", temperature=0.3)"
   ]
  },
  {
   "cell_type": "markdown",
   "id": "e828ba40",
   "metadata": {},
   "source": [
    "## Prompt"
   ]
  },
  {
   "cell_type": "code",
   "execution_count": 3,
   "id": "09249068",
   "metadata": {},
   "outputs": [],
   "source": [
    "from langchain_core.messages import SystemMessage, HumanMessage, AIMessage\n",
    "from langchain_core.prompts import ChatPromptTemplate, MessagesPlaceholder\n",
    "\n",
    "system = \"\"\"You are a Quiz Master AI. Your role is to generate engaging and informative quiz questions on any topic provided by the user. You should aim for a variety of question styles, including multiple-choice, true/false, and also include point on every question if user give correct answer to give that point to them ,and open-ended questions where appropriate. Ensure the questions are clear, concise, and factually accurate.\n",
    "\"\"\"\n",
    "\n",
    "example = [\n",
    "    HumanMessage(\n",
    "        content=\"Can you want me quiz on topic of programming. and should be in multiple-choice format.\"\n",
    "    ),\n",
    "    AIMessage(\n",
    "        content=\"\"\"\n",
    "        Which keyword is used to define a function in Python? (7 points)\n",
    "        a) func\n",
    "        b) define\n",
    "        c) def\n",
    "        d) function\n",
    "        \"\"\"\n",
    "    ),\n",
    "    HumanMessage(\n",
    "        content=\"So that answer is: c, In python we use def to create function.\"\n",
    "    ),\n",
    "    AIMessage(\n",
    "        content=\"\"\"{{\"correct\":True,\"points\":7}}\"\"\"\n",
    "    ),\n",
    "    AIMessage(\n",
    "        content=\"\"\"\n",
    "        Which of the following is a valid variable name in Python? (9 points)\n",
    "\n",
    "        a) 1st_variable\n",
    "        b) first-variable\n",
    "        c) first_variable\n",
    "        d) first variable\n",
    "        \"\"\"\n",
    "    ),\n",
    "    HumanMessage(\n",
    "        content=\"So that answer is: c.\"\n",
    "    ),\n",
    "    AIMessage(\n",
    "        content=\"\"\"{{\"correct\":False,\"points\":0}}\"\"\"\n",
    "    ),\n",
    "    AIMessage(\n",
    "        content=\"\"\"\n",
    "        What is the output of the following code snippet? (5 points)\n",
    "        ```python\n",
    "        print(type([]) is list)\n",
    "        ```\n",
    "        a) True\n",
    "        b) False\n",
    "        c) None\n",
    "        d) Error\n",
    "        \"\"\"\n",
    "    ),\n",
    "    HumanMessage(\n",
    "        content=\"So that answer is: c.\"\n",
    "    ),\n",
    "    AIMessage(\n",
    "        content=\"\"\"{{\"correct\":False,\"points\":0}}\"\"\"\n",
    "    ),\n",
    "    AIMessage(\n",
    "        content=\"\"\"\n",
    "        What is the time complexity of accessing an element in a list by index in Python? (10 points)\n",
    "        a) O(1)\n",
    "        b) O(n)\n",
    "        c) O(log n)\n",
    "        d) O(n^2)\n",
    "        \"\"\"\n",
    "    ),\n",
    "    HumanMessage(\n",
    "        content=\"So that answer is: a.\"\n",
    "    ),\n",
    "    AIMessage(\n",
    "        content=\"\"\"{{\"correct\":True,\"points\":10}}\"\"\"\n",
    "    ),\n",
    "    HumanMessage(\n",
    "        content=\"Can you want me quiz on topic of programming. But the format should be true/false.\"\n",
    "    ),\n",
    "    AIMessage(\n",
    "        content=\"\"\"\n",
    "        True or False: Python is a statically typed language. (5 points)\n",
    "        \"\"\"\n",
    "    ),\n",
    "    HumanMessage(\n",
    "        content=\"So that answer is: False.\"\n",
    "    ),\n",
    "    AIMessage(\n",
    "        content=\"\"\"{{\"correct\":True,\"points\":5}}\"\"\"\n",
    "    ),\n",
    "    AIMessage(\n",
    "        content=\"\"\"\n",
    "        True or False: In Python, a tuple is mutable. (5 points)\n",
    "        \"\"\"\n",
    "    ),\n",
    "    HumanMessage(\n",
    "        content=\"So that answer is: False.\"\n",
    "    ),\n",
    "    AIMessage(\n",
    "        content=\"\"\"{{\"correct\":False,\"points\":0}}\"\"\"\n",
    "    ),\n",
    "]\n",
    "\n",
    "prompt = ChatPromptTemplate.from_messages(\n",
    "    [\n",
    "        SystemMessage(content=system),\n",
    "        *example,\n",
    "        MessagesPlaceholder(\"topic\")\n",
    "    ]\n",
    ")"
   ]
  },
  {
   "cell_type": "markdown",
   "id": "b1fc1e00",
   "metadata": {},
   "source": [
    "## Create a structure for output.\n",
    "\n",
    "- Here we initialize the format of out in such case:\n",
    "  - To create questions\n",
    "  - To check answer."
   ]
  },
  {
   "cell_type": "code",
   "execution_count": 12,
   "id": "f1ade170",
   "metadata": {},
   "outputs": [],
   "source": [
    "from typing import List, Optional, Union\n",
    "from pydantic import Field, BaseModel\n",
    "from typing_extensions import Annotated\n",
    "\n",
    "\n",
    "class QueryStructure(BaseModel):\n",
    "    \"\"\"Quiz for user.\"\"\"\n",
    "    question: Annotated[str, ..., \"The quiz to ask user.\"]\n",
    "    options: Optional[Annotated[List[str], ...,\n",
    "                                \"If quiz is multiple choice, the options of quiz\"]]\n",
    "    point: Annotated[int, ..., \"The point of the quiz.\"]\n",
    "\n",
    "\n",
    "class AnswerStructure(BaseModel):\n",
    "    \"\"\"Quiz answer check.\"\"\"\n",
    "    correct: Annotated[bool, ..., \"The result of the quiz\"]\n",
    "    earn_point: Annotated[int, ..., \"The point that user earn\"]\n",
    "    correct_answer: Annotated[str, ..., \"The correct answer.\"]\n",
    "\n",
    "\n",
    "class CombineStructure(BaseModel):\n",
    "    combine_structure: Union[QueryStructure, AnswerStructure]\n",
    "\n",
    "\n",
    "structured_llm = llm.with_structured_output(CombineStructure)"
   ]
  },
  {
   "cell_type": "markdown",
   "id": "742f5f94",
   "metadata": {},
   "source": [
    "## Let's build a `Chain`."
   ]
  },
  {
   "cell_type": "code",
   "execution_count": 14,
   "id": "485ad4a4",
   "metadata": {},
   "outputs": [
    {
     "name": "stdout",
     "output_type": "stream",
     "text": [
      "Question: Who was the first Prime Minister of India?\n",
      "a) Jawaharlal Nehru\n",
      "b) Indira Gandhi\n",
      "c) Mahatma Gandhi\n",
      "d) Subhas Chandra Bose\n"
     ]
    },
    {
     "data": {
      "text/plain": [
       "CombineStructure(combine_structure=QueryStructure(question='Who was the first Prime Minister of India?', options=['Jawaharlal Nehru', 'Indira Gandhi', 'Mahatma Gandhi', 'Subhas Chandra Bose'], point=10))"
      ]
     },
     "execution_count": 14,
     "metadata": {},
     "output_type": "execute_result"
    }
   ],
   "source": [
    "from langchain_core.output_parsers import StrOutputParser\n",
    "from langchain_core.runnables import RunnableLambda, chain\n",
    "\n",
    "\n",
    "points = 0\n",
    "earn_points = 0\n",
    "\n",
    "messages = []\n",
    "history_chat = []\n",
    "\n",
    "\n",
    "def print_quiz(quiz) -> AIMessage:\n",
    "    global points\n",
    "\n",
    "    quiz_data = quiz.combine_structure\n",
    "    # Printing quiz\n",
    "    print(f\"Question: {quiz_data.question}\")\n",
    "    if quiz_data.options is not None:\n",
    "        for i, option in enumerate(quiz_data.options):\n",
    "            print(f\"{chr(97 + i)}) {option}\")\n",
    "\n",
    "    points += quiz_data.point\n",
    "    return AIMessage(content=str(quiz_data))\n",
    "\n",
    "\n",
    "def getAnswerFromUser() -> HumanMessage:\n",
    "    \"\"\"\n",
    "    Get answer from the user.\n",
    "    \"\"\"\n",
    "    user_input = input(\"Enter you answer:- \")\n",
    "    answer = user_input if user_input else \"I don't know.\"\n",
    "\n",
    "    human_message = HumanMessage(content=answer)\n",
    "    return human_message\n",
    "\n",
    "\n",
    "def increase_points(result):\n",
    "    global earn_points\n",
    "\n",
    "    quiz_result = result.combine_structure\n",
    "    if \"correct\" in quiz_result and \"earn_points\" in quiz_result:\n",
    "        earn_points += quiz_result.earn_point\n",
    "        message = \"Your answer is correct\" if quiz_result.correct else \"Sorry, Your answer is wrong.\"\n",
    "\n",
    "        print(message)\n",
    "\n",
    "\n",
    "@chain\n",
    "def quiz_executor(topic):\n",
    "    llm_with_ps = prompt | structured_llm\n",
    "\n",
    "    quiz = llm_with_ps.invoke({\"topic\": [HumanMessage(content=topic)]})\n",
    "\n",
    "    ai_message = print_quiz(quiz)\n",
    "    human_message = getAnswerFromUser()\n",
    "    combine_message = [ai_message, human_message]\n",
    "\n",
    "    quiz_result = llm_with_ps.invoke({\"topic\": combine_message})\n",
    "    return quiz_result\n",
    "\n",
    "\n",
    "quiz_executor.invoke(\"on the topic of indian history with multiple choice.\")"
   ]
  },
  {
   "cell_type": "code",
   "execution_count": 9,
   "id": "15e8c8b8",
   "metadata": {},
   "outputs": [
    {
     "name": "stdout",
     "output_type": "stream",
     "text": [
      "Question: Who was the first Prime Minister of India?\n",
      "a) Jawaharlal Nehru\n",
      "b) Mahatma Gandhi\n",
      "c) Subhas Chandra Bose\n",
      "d) Lal Bahadur Shastri\n",
      "combine_structure=QueryStructure(question='Who was the first Prime Minister of India?', options=['Jawaharlal Nehru', 'Mahatma Gandhi', 'Subhas Chandra Bose', 'Lal Bahadur Shastri'], point=5)\n"
     ]
    }
   ],
   "source": [
    "topic = None\n",
    "\n",
    "while True:\n",
    "    messages = []\n",
    "\n",
    "    if (len(history_chat) > 0):\n",
    "        isExit = input(\"Do you want to continues you exit. (y/n)\")\n",
    "        if isExit == \"n\" or isExit == \"no\":\n",
    "            if points > 0:\n",
    "                print(f\"You earn {earn_points} out of {points}\")\n",
    "            break\n",
    "\n",
    "    if topic is None:\n",
    "        user_input = input(\"Enter you topic name with format:- \")\n",
    "        topic = user_input if user_input else \"random topic any format.\"\n",
    "\n",
    "    quiz_result = quiz_executor.invoke(topic)\n",
    "    # increase_points(quiz_result)\n",
    "    print(quiz_result)\n",
    "    break"
   ]
  },
  {
   "cell_type": "code",
   "execution_count": null,
   "id": "a090fe98",
   "metadata": {},
   "outputs": [
    {
     "name": "stdout",
     "output_type": "stream",
     "text": [
      "combine_structure=AnswerStructure(correct=False, earn_point=0, correct_answer='C. Rajagopalachari')\n"
     ]
    }
   ],
   "source": [
    "print(structured_llm.invoke([AIMessage(content=\"question='Who was the last Governor-General of independent India before the country became a republic?' options=['C. Rajagopalachari', 'Lord Mountbatten', 'Lord Wavell', 'Lord Linlithgow'] point=8\",\n",
    "      additional_kwargs={}, response_metadata={}), HumanMessage(content='So my answer is: b', additional_kwargs={}, response_metadata={})]))"
   ]
  }
 ],
 "metadata": {
  "kernelspec": {
   "display_name": "myenv",
   "language": "python",
   "name": "python3"
  },
  "language_info": {
   "codemirror_mode": {
    "name": "ipython",
    "version": 3
   },
   "file_extension": ".py",
   "mimetype": "text/x-python",
   "name": "python",
   "nbconvert_exporter": "python",
   "pygments_lexer": "ipython3",
   "version": "3.13.0"
  }
 },
 "nbformat": 4,
 "nbformat_minor": 5
}
