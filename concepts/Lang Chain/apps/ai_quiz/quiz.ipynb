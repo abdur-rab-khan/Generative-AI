{
 "cells": [
  {
   "cell_type": "markdown",
   "id": "d41328d9",
   "metadata": {},
   "source": [
    "# 🤖 AI POWERED QUIZ APP"
   ]
  },
  {
   "cell_type": "markdown",
   "id": "fa028abd",
   "metadata": {},
   "source": [
    "### Initialize model"
   ]
  },
  {
   "cell_type": "code",
   "execution_count": 1,
   "id": "728b83a4",
   "metadata": {},
   "outputs": [],
   "source": [
    "from langchain_openai import ChatOpenAI\n",
    "\n",
    "llm = ChatOpenAI(model=\"gpt-4.1-nano\", temperature=0.3)"
   ]
  },
  {
   "cell_type": "markdown",
   "id": "e828ba40",
   "metadata": {},
   "source": [
    "## Prompt"
   ]
  },
  {
   "cell_type": "code",
   "execution_count": 2,
   "id": "09249068",
   "metadata": {},
   "outputs": [],
   "source": [
    "from langchain_core.messages import SystemMessage, HumanMessage, AIMessage\n",
    "from langchain_core.prompts import ChatPromptTemplate, MessagesPlaceholder\n",
    "\n",
    "system = \"\"\"You are a Quiz Master AI. Your role is to generate engaging and informative quiz questions on any topic provided by the user. You should aim for a variety of question styles, including multiple-choice, true/false, and also include point on every question if user give correct answer to give that point to them ,and open-ended questions where appropriate. Ensure the questions are clear, concise, and factually accurate.\n",
    "\"\"\"\n",
    "\n",
    "example = [\n",
    "    HumanMessage(\n",
    "        content=\"Can you want me quiz on topic of programming. and should be in multiple-choice format.\"\n",
    "    ),\n",
    "    AIMessage(\n",
    "        content=\"\"\"\n",
    "        Which keyword is used to define a function in Python? (7 points)\n",
    "        a) func\n",
    "        b) define\n",
    "        c) def\n",
    "        d) function\n",
    "        \"\"\"\n",
    "    ),\n",
    "    HumanMessage(\n",
    "        content=\"So that answer is: c, In python we use def to create function.\"\n",
    "    ),\n",
    "    AIMessage(\n",
    "        content=\"\"\"{{\"correct\":True,\"points\":7}}\"\"\"\n",
    "    ),\n",
    "    AIMessage(\n",
    "        content=\"\"\"\n",
    "        Which of the following is a valid variable name in Python? (9 points)\n",
    "\n",
    "        a) 1st_variable\n",
    "        b) first-variable\n",
    "        c) first_variable\n",
    "        d) first variable\n",
    "        \"\"\"\n",
    "    ),\n",
    "    HumanMessage(\n",
    "        content=\"So that answer is: c.\"\n",
    "    ),\n",
    "    AIMessage(\n",
    "        content=\"\"\"{{\"correct\":False,\"points\":0}}\"\"\"\n",
    "    ),\n",
    "    AIMessage(\n",
    "        content=\"\"\"\n",
    "        What is the output of the following code snippet? (5 points)\n",
    "        ```python\n",
    "        print(type([]) is list)\n",
    "        ```\n",
    "        a) True\n",
    "        b) False\n",
    "        c) None\n",
    "        d) Error\n",
    "        \"\"\"\n",
    "    ),\n",
    "    HumanMessage(\n",
    "        content=\"So that answer is: c.\"\n",
    "    ),\n",
    "    AIMessage(\n",
    "        content=\"\"\"{{\"correct\":False,\"points\":0}}\"\"\"\n",
    "    ),\n",
    "    AIMessage(\n",
    "        content=\"\"\"\n",
    "        What is the time complexity of accessing an element in a list by index in Python? (10 points)\n",
    "        a) O(1)\n",
    "        b) O(n)\n",
    "        c) O(log n)\n",
    "        d) O(n^2)\n",
    "        \"\"\"\n",
    "    ),\n",
    "    HumanMessage(\n",
    "        content=\"So that answer is: a.\"\n",
    "    ),\n",
    "    AIMessage(\n",
    "        content=\"\"\"{{\"correct\":True,\"points\":10}}\"\"\"\n",
    "    ),\n",
    "    HumanMessage(\n",
    "        content=\"Can you want me quiz on topic of programming. But the format should be true/false.\"\n",
    "    ),\n",
    "    AIMessage(\n",
    "        content=\"\"\"\n",
    "        True or False: Python is a statically typed language. (5 points)\n",
    "        \"\"\"\n",
    "    ),\n",
    "    HumanMessage(\n",
    "        content=\"So that answer is: False.\"\n",
    "    ),\n",
    "    AIMessage(\n",
    "        content=\"\"\"{{\"correct\":True,\"points\":5}}\"\"\"\n",
    "    ),\n",
    "    AIMessage(\n",
    "        content=\"\"\"\n",
    "        True or False: In Python, a tuple is mutable. (5 points)\n",
    "        \"\"\"\n",
    "    ),\n",
    "    HumanMessage(\n",
    "        content=\"So that answer is: False.\"\n",
    "    ),\n",
    "    AIMessage(\n",
    "        content=\"\"\"{{\"correct\":False,\"points\":0}}\"\"\"\n",
    "    ),\n",
    "]\n",
    "\n",
    "prompt = ChatPromptTemplate.from_messages(\n",
    "    [\n",
    "        SystemMessage(content=system),\n",
    "        *example,\n",
    "        MessagesPlaceholder(\"topic\")\n",
    "    ]\n",
    ")"
   ]
  },
  {
   "cell_type": "markdown",
   "id": "b1fc1e00",
   "metadata": {},
   "source": [
    "## Create a structure for output.\n",
    "\n",
    "- Here we initialize the format of out in such case:\n",
    "  - To create questions\n",
    "  - To check answer."
   ]
  },
  {
   "cell_type": "code",
   "execution_count": 27,
   "id": "f1ade170",
   "metadata": {},
   "outputs": [],
   "source": [
    "from typing import List, Optional, Union\n",
    "from pydantic import Field, BaseModel\n",
    "from typing_extensions import Annotated\n",
    "\n",
    "\n",
    "class QueryStructure(BaseModel):\n",
    "    \"\"\"Quiz for user.\"\"\"\n",
    "    question: Annotated[str, ..., \"The quiz to ask user.\"]\n",
    "    options: Optional[Annotated[List[str], ...,\n",
    "                                \"If quiz is multiple choice, the options of quiz\"]]\n",
    "    point: Annotated[int, ..., \"The point of the quiz.\"]\n",
    "\n",
    "\n",
    "class AnswerStructure(BaseModel):\n",
    "    \"\"\"Quiz answer check.\"\"\"\n",
    "    correct: Annotated[bool, ..., \"The result of the quiz\"]\n",
    "    earn_point: Annotated[int, ..., \"The point that user earn\"]\n",
    "\n",
    "\n",
    "class CombineStructure(BaseModel):\n",
    "    combine_structure: Union[QueryStructure, AnswerStructure]\n",
    "\n",
    "\n",
    "structured_llm = llm.with_structured_output(CombineStructure)"
   ]
  },
  {
   "cell_type": "markdown",
   "id": "742f5f94",
   "metadata": {},
   "source": [
    "## Let's build a `Chain`."
   ]
  },
  {
   "cell_type": "code",
   "execution_count": null,
   "id": "485ad4a4",
   "metadata": {},
   "outputs": [
    {
     "name": "stdout",
     "output_type": "stream",
     "text": [
      "combine_structure=QueryStructure(question='Who was the first Prime Minister of India? (5 points)', options=['Jawaharlal Nehru', 'Mahatma Gandhi', 'Indira Gandhi', 'Subhas Chandra Bose'], point=5)\n",
      "Question: Who was the first Prime Minister of India? (5 points)\n",
      "a) Jawaharlal Nehru\n",
      "b) Mahatma Gandhi\n",
      "c) Indira Gandhi\n",
      "d) Subhas Chandra Bose\n"
     ]
    }
   ],
   "source": [
    "from langchain_core.runnables import RunnableLambda, chain\n",
    "\n",
    "\n",
    "def print_quiz(quiz):\n",
    "    quiz_data = quiz.combine_structure\n",
    "    # Print the quiz\n",
    "    print(f\"Question: {quiz_data.question}\")\n",
    "    if quiz_data.options is not None:\n",
    "        for i, option in enumerate(quiz_data.options):\n",
    "            print(f\"{chr(97 + i)}) {option}\")\n",
    "\n",
    "\n",
    "@chain\n",
    "def quiz_executor(topic):\n",
    "    generate_quiz = prompt | structured_llm | RunnableLambda(print_quiz)"
   ]
  },
  {
   "cell_type": "code",
   "execution_count": null,
   "id": "15e8c8b8",
   "metadata": {},
   "outputs": [
    {
     "name": "stdout",
     "output_type": "stream",
     "text": [
      "hello\n"
     ]
    }
   ],
   "source": [
    "messages = []\n",
    "points = 0\n",
    "earn_points = 0\n",
    "\n",
    "while True:\n",
    "    if (len(messages) > 0):\n",
    "        isExit = input(\"Do you want to continues you exit. (y/n)\")\n",
    "        if isExit == \"n\" or isExit == \"no\":\n",
    "            if points > 0:\n",
    "                print(f\"You earn {earn_points} out of {points}\")\n",
    "            break\n",
    "\n",
    "    print(\"hello\")\n",
    "    input(\"what\")\n",
    "    messages.append(1)"
   ]
  }
 ],
 "metadata": {
  "kernelspec": {
   "display_name": "myenv",
   "language": "python",
   "name": "python3"
  },
  "language_info": {
   "codemirror_mode": {
    "name": "ipython",
    "version": 3
   },
   "file_extension": ".py",
   "mimetype": "text/x-python",
   "name": "python",
   "nbconvert_exporter": "python",
   "pygments_lexer": "ipython3",
   "version": "3.13.0"
  }
 },
 "nbformat": 4,
 "nbformat_minor": 5
}
