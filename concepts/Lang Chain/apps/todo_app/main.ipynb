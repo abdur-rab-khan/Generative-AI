{
 "cells": [
  {
   "cell_type": "markdown",
   "id": "f8631c5e",
   "metadata": {},
   "source": [
    "- Table of contents\n",
    "- [Todo App](#todo-app)\n",
    "  - [Create prompt](#create-prompt)"
   ]
  },
  {
   "cell_type": "markdown",
   "id": "dd6255cc",
   "metadata": {},
   "source": [
    "# Todo App\n",
    "\n",
    "- It can do following things on the behalf of user:\n",
    "  - Create Todo\n",
    "  - Update Todo\n",
    "  - Delete Todo\n",
    "  - Get Todo"
   ]
  },
  {
   "cell_type": "markdown",
   "id": "d248d0c1",
   "metadata": {},
   "source": [
    "## Create Prompt\n",
    "\n",
    "- Here I am going to give context how they behave on user input.\n",
    "- I use [**`few_shot_prompting`**](../../05_few_shot_prompting/few_shot_prompting.md), that them to learn from examples.\n",
    "- I will give them few examples of how to behave on user input."
   ]
  },
  {
   "cell_type": "code",
   "execution_count": null,
   "id": "50eee53d",
   "metadata": {},
   "outputs": [],
   "source": [
    "from langchain_core.prompts import ChatPromptTemplate\n",
    "from langchain_core.messages import SystemMessage, HumanMessage, AIMessage\n",
    "\n",
    "system_message = \"\"\"\n",
    "\"\"\"\n",
    "examples = []\n",
    "\n",
    "prompt = ChatPromptTemplate.from_messages(\n",
    "    [\n",
    "        SystemMessage(content=system_message),\n",
    "        *examples,\n",
    "        (\"human\", \"{input}\")\n",
    "    ]\n",
    ")"
   ]
  },
  {
   "cell_type": "markdown",
   "id": "d7c60d1f",
   "metadata": {},
   "source": [
    "## Creating Output Structure"
   ]
  },
  {
   "cell_type": "code",
   "execution_count": null,
   "id": "75ded03a",
   "metadata": {},
   "outputs": [],
   "source": [
    "from typing import Optional, Union\n",
    "from pydantic import BaseModel, Field\n",
    "from typing_extensions import Annotated\n",
    "\n",
    "\n",
    "class S1(BaseModel):\n",
    "    pass\n",
    "\n",
    "\n",
    "class S2(BaseModel):\n",
    "    pass\n",
    "\n",
    "\n",
    "class C(BaseModel):\n",
    "    pass"
   ]
  },
  {
   "cell_type": "markdown",
   "id": "a4bee01a",
   "metadata": {},
   "source": [
    "## Creating Tools"
   ]
  },
  {
   "cell_type": "code",
   "execution_count": null,
   "id": "880f15ab",
   "metadata": {},
   "outputs": [],
   "source": [
    "from langchain_core.tools import tool"
   ]
  },
  {
   "cell_type": "markdown",
   "id": "7f01a968",
   "metadata": {},
   "source": [
    "## Initialize Model"
   ]
  },
  {
   "cell_type": "code",
   "execution_count": 2,
   "id": "6861ab1f",
   "metadata": {},
   "outputs": [],
   "source": [
    "from langchain_openai import ChatOpenAI"
   ]
  },
  {
   "cell_type": "markdown",
   "id": "4fab2516",
   "metadata": {},
   "source": [
    "## Main Execution Function"
   ]
  },
  {
   "cell_type": "code",
   "execution_count": 3,
   "id": "06b22c46",
   "metadata": {},
   "outputs": [],
   "source": [
    "def main():\n",
    "    pass"
   ]
  }
 ],
 "metadata": {
  "kernelspec": {
   "display_name": "myenv",
   "language": "python",
   "name": "python3"
  },
  "language_info": {
   "codemirror_mode": {
    "name": "ipython",
    "version": 3
   },
   "file_extension": ".py",
   "mimetype": "text/x-python",
   "name": "python",
   "nbconvert_exporter": "python",
   "pygments_lexer": "ipython3",
   "version": "3.13.0"
  }
 },
 "nbformat": 4,
 "nbformat_minor": 5
}
